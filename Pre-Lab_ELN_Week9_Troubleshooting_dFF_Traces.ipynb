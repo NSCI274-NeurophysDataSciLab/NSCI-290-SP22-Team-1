{
 "cells": [
  {
   "cell_type": "markdown",
   "metadata": {},
   "source": [
    "# Pre-Lab ELN Template Exploring dF/F Traces"
   ]
  },
  {
   "cell_type": "markdown",
   "metadata": {},
   "source": [
    "### Name: Kylie Joyce\n",
    "\n",
    "\n",
    "### Date: 03/01/2022\n",
    "\n",
    "\n",
    "### PID: 730333803\n",
    "\n",
    "\n",
    "### Jupyter Notebook Number: 6"
   ]
  },
  {
   "cell_type": "markdown",
   "metadata": {},
   "source": [
    "## Purpose/Objective:\n",
    "The purpose of this notebook is to troublshoot the exploration of the dF/F traces from last week. We got to a point where the data was able to create a dF/F trace, however, the trace was not representing all the data we needed and it was also throwing errors when trying to call ophys experiment ids. We are hoping to fix this error in this lab session before we get to build our figures. "
   ]
  },
  {
   "cell_type": "markdown",
   "metadata": {},
   "source": [
    "## Protocol:\n",
    "1. Import the Allen data.\n",
    "2. Import the data set breakdown we did last class (This will take up a lot of space but it will be easy to just copy over from last week's lab).\n",
    "3. Run through all the code from last week.\n",
    "4. Test the finding of all ophys experiment ids in hopes of making a trace that reflects all the data we need (will probably take up majority of class time because we will need to run it and troubleshoot after).\n",
    "5. If we can get working traces and we have time, we will assess the traces created and code used to create them to fully understand what is being presented.\n",
    "6. If we have time, after assessing this, we will use the traces to understand how many animals are being presented and look to make an average. (Done after creating the traces)"
   ]
  },
  {
   "cell_type": "markdown",
   "metadata": {},
   "source": [
    "## Expected Results:\n",
    "We expect to successfully troubleshoot and build traces of all animals overlayed on each other. We also expect to be able to breakdown the traces to see if what is shown on the original trace (is it all individual animals or is it an average of all animals?). If it is successful and it is an average, we would look into using this average code to average all the data for one data set. This will then be used to quanitify neuronal activity peaks which will be used for ANOVA testing. "
   ]
  },
  {
   "cell_type": "markdown",
   "metadata": {},
   "source": [
    "### Installing AllenSDK into your local environment. "
   ]
  },
  {
   "cell_type": "code",
   "execution_count": null,
   "metadata": {},
   "outputs": [],
   "source": [
    "pip install allensdk"
   ]
  },
  {
   "cell_type": "markdown",
   "metadata": {},
   "source": [
    "### Import Packages:"
   ]
  },
  {
   "cell_type": "code",
   "execution_count": null,
   "metadata": {},
   "outputs": [],
   "source": [
    "import os\n",
    "import shutil\n",
    "import allensdk\n",
    "import pprint\n",
    "from pathlib import Path\n",
    "\n",
    "import numpy as np\n",
    "import pandas as pd\n",
    "import scipy.stats as st\n",
    "\n",
    "import matplotlib.pyplot as plt\n",
    "%matplotlib inline\n",
    "import seaborn as sns\n",
    "sns.set_context('notebook', font_scale=1.5, rc={'lines.markeredgewidth': 2})"
   ]
  },
  {
   "cell_type": "markdown",
   "metadata": {},
   "source": [
    "### If working with Visual Coding: Neuropixels Data use the following code block to import the cache object and point it to the data already downloaded and stored on LongLeaf.  Do not change this code."
   ]
  },
  {
   "cell_type": "code",
   "execution_count": null,
   "metadata": {},
   "outputs": [],
   "source": [
    "#this code block should only be run if you are working with the neuropixels data\n",
    "from allensdk.brain_observatory.ecephys.ecephys_project_cache import EcephysProjectCache\n",
    "\n",
    "data_directory = '/overflow/NSCI274/projects/ecephysdata/' \n",
    "\n",
    "manifest_path = os.path.join(data_directory, \"manifest.json\")\n",
    "\n",
    "cache = EcephysProjectCache.from_warehouse(manifest=manifest_path)"
   ]
  },
  {
   "cell_type": "markdown",
   "metadata": {},
   "source": [
    "### If working with Visual Coding: 2P Ca2+ Imaging Data use the following code block to import the cache object and point it to the data already downloaded and stored on LongLeaf.  Do not change this code."
   ]
  },
  {
   "cell_type": "code",
   "execution_count": null,
   "metadata": {},
   "outputs": [],
   "source": [
    "#this code block should only be run if you are working with the brain observatory Ca2+ imaging data\n",
    "from allensdk.core.brain_observatory_cache import BrainObservatoryCache\n",
    "\n",
    "drive_path = '/overflow/NSCI274/projects/BrainObservatoryOPhysData/'\n",
    "\n",
    "manifest_file = os.path.join(drive_path,'manifest.json')\n",
    "\n",
    "boc = BrainObservatoryCache(manifest_file=manifest_file)"
   ]
  },
  {
   "cell_type": "markdown",
   "metadata": {},
   "source": [
    "### If working with Visual Behavior: 2P Ca2+ Imaging Data use the following code block to import the cache object and point it to the data already downloaded and stored on LongLeaf.  Do not change this code."
   ]
  },
  {
   "cell_type": "code",
   "execution_count": null,
   "metadata": {},
   "outputs": [],
   "source": [
    "#this code block should only be run if you are working with the visual behavior Ca2+ imaging data\n",
    "from allensdk.brain_observatory.behavior.behavior_project_cache import VisualBehaviorOphysProjectCache\n",
    "\n",
    "data_storage_directory = Path(\"/overflow/NSCI274/projects/ophysdata\")\n",
    "\n",
    "cache = VisualBehaviorOphysProjectCache.from_s3_cache(cache_dir=data_storage_directory)"
   ]
  },
  {
   "cell_type": "markdown",
   "metadata": {},
   "source": [
    "### Allen Brain Data"
   ]
  },
  {
   "cell_type": "code",
   "execution_count": null,
   "metadata": {},
   "outputs": [],
   "source": [
    "ophys_experiments = cache.get_ophys_experiment_table()\n",
    "\n",
    "print(f\"Total number of ophys experiments: {len(ophys_experiments)}\\n\")\n",
    "\n",
    "print(ophys_experiments.columns)\n",
    "\n",
    "ophys_experiments.head(100)"
   ]
  },
  {
   "cell_type": "markdown",
   "metadata": {},
   "source": [
    "### A cleaner way to have our data organized (also keeps the ophys_experiment_ids)"
   ]
  },
  {
   "cell_type": "markdown",
   "metadata": {},
   "source": [
    "#### Male Familiar"
   ]
  },
  {
   "cell_type": "code",
   "execution_count": null,
   "metadata": {},
   "outputs": [],
   "source": [
    "plsmales1 = ophys_experiments[(ophys_experiments.sex=='M') &\n",
    "                            (ophys_experiments.full_genotype=='Sst-IRES-Cre/wt;Ai148(TIT2L-GC6f-ICL-tTA2)/wt')&\n",
    "                            (ophys_experiments.targeted_structure=='VISp')&\n",
    "                             (ophys_experiments.session_type=='OPHYS_2_images_A_passive')]\n",
    "\n",
    "plsmales2 = ophys_experiments[(ophys_experiments.sex=='M') &\n",
    "                            (ophys_experiments.full_genotype=='Sst-IRES-Cre/wt;Ai148(TIT2L-GC6f-ICL-tTA2)/wt')&\n",
    "                            (ophys_experiments.targeted_structure=='VISp')&\n",
    "                             (ophys_experiments.session_type=='OPHYS_2_images_B_passive')]\n",
    "\n",
    "plsmales3 = ophys_experiments[(ophys_experiments.sex=='M') &\n",
    "                            (ophys_experiments.full_genotype=='Vip-IRES-Cre/wt;Ai148(TIT2L-GC6f-ICL-tTA2)/wt')&\n",
    "                            (ophys_experiments.targeted_structure=='VISp')&\n",
    "                             (ophys_experiments.session_type=='OPHYS_2_images_A_passive')]\n",
    "\n",
    "plsmales4 = ophys_experiments[(ophys_experiments.sex=='M') &\n",
    "                            (ophys_experiments.full_genotype=='Vip-IRES-Cre/wt;Ai148(TIT2L-GC6f-ICL-tTA2)/wt')&\n",
    "                            (ophys_experiments.targeted_structure=='VISp')&\n",
    "                             (ophys_experiments.session_type=='OPHYS_2_images_B_passive')]\n",
    "\n",
    "# males familiar total is plsmales1 + plsmales2 + plsmales3 + plsmales4\n",
    "plsmalesf = pd.concat([plsmales1, plsmales2], axis=0)\n",
    "\n",
    "plsmalesf = pd.concat([plsmalesf, plsmales3], axis=0)\n",
    "\n",
    "plsmalesf = pd.concat([plsmalesf, plsmales4], axis=0)\n",
    "            \n",
    "plsmalesf"
   ]
  },
  {
   "cell_type": "markdown",
   "metadata": {},
   "source": [
    "#### Male Novel "
   ]
  },
  {
   "cell_type": "code",
   "execution_count": null,
   "metadata": {},
   "outputs": [],
   "source": [
    "plsmales5 = ophys_experiments[(ophys_experiments.sex=='M') &\n",
    "                            (ophys_experiments.full_genotype=='Sst-IRES-Cre/wt;Ai148(TIT2L-GC6f-ICL-tTA2)/wt')&\n",
    "                            (ophys_experiments.targeted_structure=='VISp')&\n",
    "                             (ophys_experiments.session_type=='OPHYS_5_images_A_passive')]\n",
    "\n",
    "plsmales6 = ophys_experiments[(ophys_experiments.sex=='M') &\n",
    "                            (ophys_experiments.full_genotype=='Sst-IRES-Cre/wt;Ai148(TIT2L-GC6f-ICL-tTA2)/wt')&\n",
    "                            (ophys_experiments.targeted_structure=='VISp')&\n",
    "                             (ophys_experiments.session_type=='OPHYS_5_images_B_passive')]\n",
    "\n",
    "plsmales7 = ophys_experiments[(ophys_experiments.sex=='M') &\n",
    "                            (ophys_experiments.full_genotype=='Vip-IRES-Cre/wt;Ai148(TIT2L-GC6f-ICL-tTA2)/wt')&\n",
    "                            (ophys_experiments.targeted_structure=='VISp')&\n",
    "                             (ophys_experiments.session_type=='OPHYS_5_images_A_passive')]\n",
    "\n",
    "plsmales8 = ophys_experiments[(ophys_experiments.sex=='M') &\n",
    "                            (ophys_experiments.full_genotype=='Vip-IRES-Cre/wt;Ai148(TIT2L-GC6f-ICL-tTA2)/wt')&\n",
    "                            (ophys_experiments.targeted_structure=='VISp')&\n",
    "                             (ophys_experiments.session_type=='OPHYS_5_images_B_passive')]\n",
    "\n",
    "# males novel total is plsmales5 + plsmales6 + plsmales7 + plsmales8\n",
    "\n",
    "plsmalesn = pd.concat([plsmales5, plsmales6], axis=0)\n",
    "\n",
    "plsmalesn = pd.concat([plsmalesn, plsmales7], axis=0)\n",
    "\n",
    "plsmalesn = pd.concat([plsmalesn, plsmales8], axis=0)\n",
    "            \n",
    "plsmalesn"
   ]
  },
  {
   "cell_type": "markdown",
   "metadata": {},
   "source": [
    "#### Female Familiar"
   ]
  },
  {
   "cell_type": "code",
   "execution_count": null,
   "metadata": {},
   "outputs": [],
   "source": [
    "plsfemales1 = ophys_experiments[(ophys_experiments.sex=='F') &\n",
    "                            (ophys_experiments.full_genotype=='Sst-IRES-Cre/wt;Ai148(TIT2L-GC6f-ICL-tTA2)/wt')&\n",
    "                            (ophys_experiments.targeted_structure=='VISp')&\n",
    "                             (ophys_experiments.session_type=='OPHYS_2_images_A_passive')]\n",
    "\n",
    "plsfemales2 = ophys_experiments[(ophys_experiments.sex=='F') &\n",
    "                            (ophys_experiments.full_genotype=='Sst-IRES-Cre/wt;Ai148(TIT2L-GC6f-ICL-tTA2)/wt')&\n",
    "                            (ophys_experiments.targeted_structure=='VISp')&\n",
    "                             (ophys_experiments.session_type=='OPHYS_2_images_B_passive')]\n",
    "\n",
    "plsfemales3 = ophys_experiments[(ophys_experiments.sex=='F') &\n",
    "                            (ophys_experiments.full_genotype=='Vip-IRES-Cre/wt;Ai148(TIT2L-GC6f-ICL-tTA2)/wt')&\n",
    "                            (ophys_experiments.targeted_structure=='VISp')&\n",
    "                             (ophys_experiments.session_type=='OPHYS_2_images_A_passive')]\n",
    "\n",
    "plsfemales4 = ophys_experiments[(ophys_experiments.sex=='F') &\n",
    "                            (ophys_experiments.full_genotype=='Vip-IRES-Cre/wt;Ai148(TIT2L-GC6f-ICL-tTA2)/wt')&\n",
    "                            (ophys_experiments.targeted_structure=='VISp')&\n",
    "                             (ophys_experiments.session_type=='OPHYS_2_images_B_passive')]\n",
    "\n",
    "# females familiar total is plsfemales1 + plsfemales2 + plsfemales3 + plsfemales4\n",
    "\n",
    "plsfemalesf = pd.concat([plsfemales1, plsfemales2], axis=0)\n",
    "\n",
    "plsfemalesf = pd.concat([plsfemalesf, plsfemales3], axis=0)\n",
    "\n",
    "plsfemalesf = pd.concat([plsfemalesf, plsfemales4], axis=0)\n",
    "            \n",
    "plsfemalesf"
   ]
  },
  {
   "cell_type": "markdown",
   "metadata": {},
   "source": [
    "#### Female Novel"
   ]
  },
  {
   "cell_type": "code",
   "execution_count": null,
   "metadata": {},
   "outputs": [],
   "source": [
    "plsfemales5 = ophys_experiments[(ophys_experiments.sex=='F') &\n",
    "                            (ophys_experiments.full_genotype=='Sst-IRES-Cre/wt;Ai148(TIT2L-GC6f-ICL-tTA2)/wt')&\n",
    "                            (ophys_experiments.targeted_structure=='VISp')&\n",
    "                             (ophys_experiments.session_type=='OPHYS_5_images_A_passive')]\n",
    "\n",
    "plsfemales6 = ophys_experiments[(ophys_experiments.sex=='F') &\n",
    "                            (ophys_experiments.full_genotype=='Sst-IRES-Cre/wt;Ai148(TIT2L-GC6f-ICL-tTA2)/wt')&\n",
    "                            (ophys_experiments.targeted_structure=='VISp')&\n",
    "                             (ophys_experiments.session_type=='OPHYS_5_images_B_passive')]\n",
    "\n",
    "plsfemales7 = ophys_experiments[(ophys_experiments.sex=='F') &\n",
    "                            (ophys_experiments.full_genotype=='Vip-IRES-Cre/wt;Ai148(TIT2L-GC6f-ICL-tTA2)/wt')&\n",
    "                            (ophys_experiments.targeted_structure=='VISp')&\n",
    "                             (ophys_experiments.session_type=='OPHYS_5_images_A_passive')]\n",
    "\n",
    "plsfemales8 = ophys_experiments[(ophys_experiments.sex=='F') &\n",
    "                            (ophys_experiments.full_genotype=='Vip-IRES-Cre/wt;Ai148(TIT2L-GC6f-ICL-tTA2)/wt')&\n",
    "                            (ophys_experiments.targeted_structure=='VISp')&\n",
    "                             (ophys_experiments.session_type=='OPHYS_5_images_B_passive')]\n",
    "\n",
    "# females novel total is plsfemales5 + plsfemales6 + plsfemales7 + plsfemales8\n",
    "\n",
    "plsfemalesn = pd.concat([plsfemales5, plsfemales6], axis=0)\n",
    "\n",
    "plsfemalesn = pd.concat([plsfemalesn, plsfemales7], axis=0)\n",
    "\n",
    "plsfemalesn = pd.concat([plsfemalesn, plsfemales8], axis=0)\n",
    "            \n",
    "plsfemalesn"
   ]
  },
  {
   "cell_type": "markdown",
   "metadata": {},
   "source": [
    "### Beginning to create dF/F traces"
   ]
  },
  {
   "cell_type": "markdown",
   "metadata": {},
   "source": [
    "#### \"Prefered magic functions for jupyter notebook\""
   ]
  },
  {
   "cell_type": "code",
   "execution_count": null,
   "metadata": {},
   "outputs": [],
   "source": [
    "%load_ext autoreload\n",
    "%autoreload 2\n",
    "%matplotlib inline"
   ]
  },
  {
   "cell_type": "markdown",
   "metadata": {},
   "source": [
    "#### Check again how many sessions and format it"
   ]
  },
  {
   "cell_type": "code",
   "execution_count": null,
   "metadata": {},
   "outputs": [],
   "source": [
    "print('Number of male inhibitory familiar sessions = {}'.format(len(plsmalesf)))"
   ]
  },
  {
   "cell_type": "code",
   "execution_count": null,
   "metadata": {},
   "outputs": [],
   "source": [
    "print('Number of male inhibitory novel sessions = {}'.format(len(plsmalesn)))"
   ]
  },
  {
   "cell_type": "code",
   "execution_count": null,
   "metadata": {},
   "outputs": [],
   "source": [
    "print('Number of female inhibitory familiar sessions = {}'.format(len(plsfemalesf)))"
   ]
  },
  {
   "cell_type": "code",
   "execution_count": null,
   "metadata": {},
   "outputs": [],
   "source": [
    "print('Number of female inhibitory novel sessions = {}'.format(len(plsfemalesn)))"
   ]
  },
  {
   "cell_type": "markdown",
   "metadata": {},
   "source": [
    "#### Get Ophys_experiment_ids from plsmalesf"
   ]
  },
  {
   "cell_type": "code",
   "execution_count": null,
   "metadata": {},
   "outputs": [],
   "source": [
    "ophys_session_idmf = plsmalesf.index.values[0]\n",
    "ophys_session_idmf"
   ]
  },
  {
   "cell_type": "code",
   "execution_count": null,
   "metadata": {},
   "outputs": [],
   "source": [
    "ophys_experiment_ids = plsmalesf.loc[ophys_session_idmf].ophys_experiment_id\n",
    "print(ophys_experiment_ids)"
   ]
  },
  {
   "cell_type": "markdown",
   "metadata": {},
   "source": [
    "Code ran for the trace and for loop immediately below but the trace didn't give us everything we needed and this failed so we are hoping to get this working this time!"
   ]
  },
  {
   "cell_type": "code",
   "execution_count": null,
   "metadata": {},
   "outputs": [],
   "source": [
    "ophys_experiment_idsmf = []\n",
    "\n",
    "for i in range(len(plsmalesf)):\n",
    "    ophys_experiment_id = plsmalesf.index.values[i]\n",
    "    ophys_experiment_idsmf.append(ophys_experiment_id)\n",
    "\n",
    "print(ophys_experiment_idsmf)"
   ]
  },
  {
   "cell_type": "markdown",
   "metadata": {},
   "source": [
    "#### Make male familiar traces"
   ]
  },
  {
   "cell_type": "code",
   "execution_count": null,
   "metadata": {},
   "outputs": [],
   "source": [
    "fig, ax = plt.subplots(1,1, figsize=(15,4))\n",
    "# enumerate over experiments in this session\n",
    "for i, ophys_experiments in enumerate(ophys_experiment_idsmf): \n",
    "    # get the dataset object\n",
    "    dataset = cache.get_behavior_ophys_experiment(ophys_experiment_id=ophys_experiment_id)\n",
    "    # get ophys timestamps\n",
    "    ophys_timestamps = dataset.ophys_timestamps\n",
    "    # get the population average dF/F trace\n",
    "    dff_traces = dataset.dff_traces\n",
    "    # dff_traces is a dataframe with a column 'dff'\n",
    "    # get the values of this column and turn into a matrix of n_cells x timepoints\n",
    "    dff_traces = np.vstack(dff_traces.dff.values)\n",
    "    # take the mean over the cell axis\n",
    "    average_dFF = np.mean(dff_traces, axis=0)\n",
    "    # get the imaging_depth and targeted_structure for this experiment\n",
    "    # plot it, including the imaging_depth and targeted_structure in the legend label\n",
    "    ax.plot(ophys_timestamps, average_dFF)\n",
    "    ax.set_title(\"Average Male Inhibitory Neuronal Activity Passively Viewing Familiar Images\")\n",
    "ax.set_ylabel('dF/F')\n",
    "ax.set_xlabel('time (seconds)')\n",
    "ax.set_xlim(5*60, 10*60)\n",
    "ax.legend()"
   ]
  },
  {
   "cell_type": "markdown",
   "metadata": {},
   "source": [
    "#### Shortening the time frame so it takes a little less to run and I can fuck with it until we get all the experiment ids with the single animals before figuring out averaging"
   ]
  },
  {
   "cell_type": "code",
   "execution_count": null,
   "metadata": {},
   "outputs": [],
   "source": [
    "fig, ax = plt.subplots(1,1, figsize=(15,4))\n",
    "# enumerate over experiments in this session\n",
    "for i, ophys_experiments in enumerate(ophys_experiment_idsmf): \n",
    "    # get the dataset object\n",
    "    dataset = cache.get_behavior_ophys_experiment(ophys_experiment_id=ophys_experiment_id)\n",
    "    # get ophys timestamps\n",
    "    ophys_timestamps = dataset.ophys_timestamps\n",
    "    # get the population average dF/F trace\n",
    "    dff_traces = dataset.dff_traces\n",
    "    # dff_traces is a dataframe with a column 'dff'\n",
    "    # get the values of this column and turn into a matrix of n_cells x timepoints\n",
    "    dff_traces = np.vstack(dff_traces.dff.values)\n",
    "    # take the mean over the cell axis\n",
    "    average_dFF = np.mean(dff_traces, axis=0)\n",
    "    # get the imaging_depth and targeted_structure for this experiment\n",
    "    # plot it, including the imaging_depth and targeted_structure in the legend label\n",
    "    ax.plot(ophys_timestamps, average_dFF)\n",
    "    ax.set_title(\"Average Male Inhibitory Neuronal Activity Passively Viewing Familiar Images\")\n",
    "ax.set_ylabel('dF/F')\n",
    "ax.set_xlabel('time (seconds)')\n",
    "ax.set_xlim(5*60, 5*60)\n",
    "ax.legend()"
   ]
  },
  {
   "cell_type": "markdown",
   "metadata": {},
   "source": [
    "#### Get Ophys_experiment_ids from plsmalesn"
   ]
  },
  {
   "cell_type": "code",
   "execution_count": null,
   "metadata": {},
   "outputs": [],
   "source": [
    "ophys_session_idmn = plsmalesn.index.values[0]\n",
    "ophys_session_idmn"
   ]
  },
  {
   "cell_type": "code",
   "execution_count": null,
   "metadata": {},
   "outputs": [],
   "source": [
    "ophys_experiment_idsmn = []\n",
    "\n",
    "for i in range(len(plsmalesn)):\n",
    "    ophys_experiment_id = plsmalesn.index.values[i]\n",
    "    ophys_experiment_idsmn.append(ophys_experiment_id)\n",
    "\n",
    "print(ophys_experiment_idsmn)"
   ]
  },
  {
   "cell_type": "markdown",
   "metadata": {},
   "source": [
    "#### Make male novel traces"
   ]
  },
  {
   "cell_type": "code",
   "execution_count": null,
   "metadata": {},
   "outputs": [],
   "source": [
    "fig, ax = plt.subplots(1,1, figsize=(15,4))\n",
    "# enumerate over experiments in this session\n",
    "for i, ophys_experiments in enumerate(ophys_experiment_idsmn): \n",
    "    # get the dataset object\n",
    "    dataset = cache.get_behavior_ophys_experiment(ophys_experiment_id=ophys_experiment_id)\n",
    "    # get ophys timestamps\n",
    "    ophys_timestamps = dataset.ophys_timestamps\n",
    "    # get the population average dF/F trace\n",
    "    dff_traces = dataset.dff_traces\n",
    "    # dff_traces is a dataframe with a column 'dff'\n",
    "    # get the values of this column and turn into a matrix of n_cells x timepoints\n",
    "    dff_traces = np.vstack(dff_traces.dff.values)\n",
    "    # take the mean over the cell axis\n",
    "    average_dFF = np.mean(dff_traces, axis=0)\n",
    "    # get the imaging_depth and targeted_structure for this experiment\n",
    "    # plot it, including the imaging_depth and targeted_structure in the legend label\n",
    "    ax.plot(ophys_timestamps, average_dFF)\n",
    "    ax.set_title(\"Average Male Inhibitory Neuronal Activity Passively Viewing Familiar Images\")\n",
    "ax.set_ylabel('dF/F')\n",
    "ax.set_xlabel('time (seconds)')\n",
    "ax.set_xlim(5*60, 10*60)\n",
    "ax.legend()"
   ]
  },
  {
   "cell_type": "markdown",
   "metadata": {},
   "source": [
    "#### Get Ophys_experiment_ids from plsfemalesf"
   ]
  },
  {
   "cell_type": "code",
   "execution_count": null,
   "metadata": {},
   "outputs": [],
   "source": [
    "ophys_session_idff = plsfemalesf.index.values[0]\n",
    "ophys_session_idff"
   ]
  },
  {
   "cell_type": "code",
   "execution_count": null,
   "metadata": {},
   "outputs": [],
   "source": [
    "ophys_experiment_idsff = []\n",
    "\n",
    "for i in range(len(plsfemalesf)):\n",
    "    ophys_experiment_id = plsfemalesf.index.values[i]\n",
    "    ophys_experiment_idsff.append(ophys_experiment_id)\n",
    "\n",
    "print(ophys_experiment_idsff)"
   ]
  },
  {
   "cell_type": "markdown",
   "metadata": {},
   "source": [
    "#### Make female familiar traces"
   ]
  },
  {
   "cell_type": "code",
   "execution_count": null,
   "metadata": {},
   "outputs": [],
   "source": [
    "fig, ax = plt.subplots(1,1, figsize=(15,4))\n",
    "# enumerate over experiments in this session\n",
    "for i, ophys_experiments in enumerate(ophys_experiment_idsff): \n",
    "    # get the dataset object\n",
    "    dataset = cache.get_behavior_ophys_experiment(ophys_experiment_id=ophys_experiment_id)\n",
    "    # get ophys timestamps\n",
    "    ophys_timestamps = dataset.ophys_timestamps\n",
    "    # get the population average dF/F trace\n",
    "    dff_traces = dataset.dff_traces\n",
    "    # dff_traces is a dataframe with a column 'dff'\n",
    "    # get the values of this column and turn into a matrix of n_cells x timepoints\n",
    "    dff_traces = np.vstack(dff_traces.dff.values)\n",
    "    # take the mean over the cell axis\n",
    "    average_dFF = np.mean(dff_traces, axis=0)\n",
    "    # get the imaging_depth and targeted_structure for this experiment\n",
    "    # plot it, including the imaging_depth and targeted_structure in the legend label\n",
    "    ax.plot(ophys_timestamps, average_dFF)\n",
    "    ax.set_title(\"Average Male Inhibitory Neuronal Activity Passively Viewing Familiar Images\")\n",
    "ax.set_ylabel('dF/F')\n",
    "ax.set_xlabel('time (seconds)')\n",
    "ax.set_xlim(5*60, 10*60)\n",
    "ax.legend()"
   ]
  },
  {
   "cell_type": "markdown",
   "metadata": {},
   "source": [
    "#### Get Ophys_experiment_ids from plsfemalesn"
   ]
  },
  {
   "cell_type": "code",
   "execution_count": null,
   "metadata": {},
   "outputs": [],
   "source": [
    "ophys_session_idfn = plsfemalesn.index.values[0]\n",
    "ophys_session_idfn"
   ]
  },
  {
   "cell_type": "code",
   "execution_count": null,
   "metadata": {},
   "outputs": [],
   "source": [
    "ophys_experiment_idsfn = []\n",
    "\n",
    "for i in range(len(plsfemalesn)):\n",
    "    ophys_experiment_id = plsfemalesn.index.values[i]\n",
    "    ophys_experiment_idsfn.append(ophys_experiment_id)\n",
    "\n",
    "print(ophys_experiment_idsfn)"
   ]
  },
  {
   "cell_type": "markdown",
   "metadata": {},
   "source": [
    "#### Make female novel traces"
   ]
  },
  {
   "cell_type": "code",
   "execution_count": null,
   "metadata": {},
   "outputs": [],
   "source": [
    "fig, ax = plt.subplots(1,1, figsize=(15,4))\n",
    "# enumerate over experiments in this session\n",
    "for i, ophys_experiments in enumerate(ophys_experiment_idsfn): \n",
    "    # get the dataset object\n",
    "    dataset = cache.get_behavior_ophys_experiment(ophys_experiment_id=ophys_experiment_id)\n",
    "    # get ophys timestamps\n",
    "    ophys_timestamps = dataset.ophys_timestamps\n",
    "    # get the population average dF/F trace\n",
    "    dff_traces = dataset.dff_traces\n",
    "    # dff_traces is a dataframe with a column 'dff'\n",
    "    # get the values of this column and turn into a matrix of n_cells x timepoints\n",
    "    dff_traces = np.vstack(dff_traces.dff.values)\n",
    "    # take the mean over the cell axis\n",
    "    average_dFF = np.mean(dff_traces, axis=0)\n",
    "    # get the imaging_depth and targeted_structure for this experiment\n",
    "    # plot it, including the imaging_depth and targeted_structure in the legend label\n",
    "    ax.plot(ophys_timestamps, average_dFF)\n",
    "    ax.set_title(\"Average Male Inhibitory Neuronal Activity Passively Viewing Familiar Images\")\n",
    "ax.set_ylabel('dF/F')\n",
    "ax.set_xlabel('time (seconds)')\n",
    "ax.set_xlim(5*60, 10*60)\n",
    "ax.legend()"
   ]
  },
  {
   "cell_type": "markdown",
   "metadata": {},
   "source": [
    "**Actual coding ends here because everything we need to do after this solely depends on this troubleshooting helps the code work and allows us to assess what the traces show before moving on. Last week the code proved to be a pain and a half to get running and trying to trouble shoot so hopefully we can fix it this time around**"
   ]
  },
  {
   "cell_type": "markdown",
   "metadata": {},
   "source": [
    "## Resources:\n",
    "\n",
    "\n",
    "### Sample Allen Jupyter Notebooks to get started:\n",
    "https://allensdk.readthedocs.io/en/latest/visual_behavior_optical_physiology.html\n",
    "https://allensdk.readthedocs.io/en/latest/visual_coding_neuropixels.html\n",
    "https://datacarpentry.org/python-ecology-lesson/05-merging-data/index.html\n",
    "\n",
    "\n",
    "Insert text. "
   ]
  },
  {
   "cell_type": "code",
   "execution_count": null,
   "metadata": {},
   "outputs": [],
   "source": []
  }
 ],
 "metadata": {
  "kernelspec": {
   "display_name": "Python (3.7.9)",
   "language": "python",
   "name": "py379"
  },
  "language_info": {
   "codemirror_mode": {
    "name": "ipython",
    "version": 3
   },
   "file_extension": ".py",
   "mimetype": "text/x-python",
   "name": "python",
   "nbconvert_exporter": "python",
   "pygments_lexer": "ipython3",
   "version": "3.7.9"
  }
 },
 "nbformat": 4,
 "nbformat_minor": 5
}
