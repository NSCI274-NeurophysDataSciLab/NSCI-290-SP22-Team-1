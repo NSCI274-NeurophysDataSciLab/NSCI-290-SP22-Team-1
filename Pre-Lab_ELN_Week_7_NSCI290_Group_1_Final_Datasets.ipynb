{
 "cells": [
  {
   "cell_type": "markdown",
   "metadata": {},
   "source": [
    "# Pre-Lab ELN Final Dataset Production"
   ]
  },
  {
   "cell_type": "markdown",
   "metadata": {},
   "source": [
    "### Name: Kylie Joyce\n",
    "\n",
    "\n",
    "### Date: 02/22/22\n",
    "\n",
    "\n",
    "### PID: 730333803\n",
    "\n",
    "\n",
    "### Jupyter Notebook Number: 5"
   ]
  },
  {
   "cell_type": "markdown",
   "metadata": {},
   "source": [
    "## Purpose/Objective:\n",
    "The objective of this notebook is to breakdown the very broad dataset provided by Allen Brain Institute Atlas data into the specific datasets we want to focus on (VIP inhibitory neuron data of males when viewing familiar images, VIP inhibitory neuron data of females when viewing familiar images, VIP inhibitory neuron data of males when viewing novel images, and VIP inhibitory neuron data of females when viewing novel images). This will allow us to get a good idea of how many data points we are working with as well as get an idea of how our figure 1 panels may look (since this was focused on the breakdown of our data into the final datasets). "
   ]
  },
  {
   "cell_type": "markdown",
   "metadata": {},
   "source": [
    "## Protocol:\n",
    "1. Import allensdk data \n",
    "2. Filter and save sessions by sex (one list for males, one list for females).\n",
    "3. Breakdown the data into excitatory and inhibitory neuron data.\n",
    "4. Save all information of inhibitory neuron trials: one for males and one for females.\n",
    "5. Analyze the data into VISp ONLY data points.\n",
    "6. Further breakdown these lists into 2 lists each: one containing data when viewing novel images and one containing data when viewing familiar images.\n",
    "7. Trouble shoot any failures with syntax/errors. \n",
    "8. If we finish early and everything works, we will look to see if we should focus on the depth of the cells within the V1 area as another variable. (need to see amount of depths in each sex and and how much data falls into each depth per sex). "
   ]
  },
  {
   "cell_type": "markdown",
   "metadata": {},
   "source": [
    "## Expected Results:\n",
    "We expect to find a good amount of data in each category listed in the objective above. These numbers should be more than 5 (which we consider to be quite small of an n) but will not be outrageous numbers (like over 1000 data points to work with). Having these data sets broken down and defined gives us a much better understanding of what we are actually working with and will allow us to further narrow/expand the borders of our research as needed."
   ]
  },
  {
   "cell_type": "markdown",
   "metadata": {},
   "source": [
    "### As a note, this prelab was not broken up into individual portions because separating the data heavily relies on havin previously split data (aka splitting inhibitory from excitatory specifically in males and females separately. This also was worked on intensly by all members and we tried to trouble shoot any for loop issues before hand but want to be able to trouble shoot together if anything goes wrong during lab. "
   ]
  },
  {
   "cell_type": "markdown",
   "metadata": {},
   "source": [
    "### Installing AllenSDK into your local environment. "
   ]
  },
  {
   "cell_type": "code",
   "execution_count": null,
   "metadata": {},
   "outputs": [],
   "source": [
    "pip install allensdk"
   ]
  },
  {
   "cell_type": "markdown",
   "metadata": {},
   "source": [
    "### Import Packages:"
   ]
  },
  {
   "cell_type": "code",
   "execution_count": null,
   "metadata": {},
   "outputs": [],
   "source": [
    "import os\n",
    "import shutil\n",
    "import allensdk\n",
    "import pprint\n",
    "from pathlib import Path\n",
    "\n",
    "import numpy as np\n",
    "import pandas as pd\n",
    "import scipy.stats as st\n",
    "\n",
    "import matplotlib.pyplot as plt\n",
    "%matplotlib inline\n",
    "import seaborn as sns\n",
    "sns.set_context('notebook', font_scale=1.5, rc={'lines.markeredgewidth': 2})"
   ]
  },
  {
   "cell_type": "markdown",
   "metadata": {},
   "source": [
    "### If working with Visual Coding: Neuropixels Data use the following code block to import the cache object and point it to the data already downloaded and stored on LongLeaf.  Do not change this code."
   ]
  },
  {
   "cell_type": "code",
   "execution_count": null,
   "metadata": {},
   "outputs": [],
   "source": [
    "#this code block should only be run if you are working with the neuropixels data\n",
    "from allensdk.brain_observatory.ecephys.ecephys_project_cache import EcephysProjectCache\n",
    "\n",
    "data_directory = '/overflow/NSCI274/projects/ecephysdata/' \n",
    "\n",
    "manifest_path = os.path.join(data_directory, \"manifest.json\")\n",
    "\n",
    "cache = EcephysProjectCache.from_warehouse(manifest=manifest_path)"
   ]
  },
  {
   "cell_type": "markdown",
   "metadata": {},
   "source": [
    "### If working with Visual Coding: 2P Ca2+ Imaging Data use the following code block to import the cache object and point it to the data already downloaded and stored on LongLeaf.  Do not change this code."
   ]
  },
  {
   "cell_type": "code",
   "execution_count": null,
   "metadata": {},
   "outputs": [],
   "source": [
    "#this code block should only be run if you are working with the brain observatory Ca2+ imaging data\n",
    "from allensdk.core.brain_observatory_cache import BrainObservatoryCache\n",
    "\n",
    "drive_path = '/overflow/NSCI274/projects/BrainObservatoryOPhysData/'\n",
    "\n",
    "manifest_file = os.path.join(drive_path,'manifest.json')\n",
    "\n",
    "boc = BrainObservatoryCache(manifest_file=manifest_file)"
   ]
  },
  {
   "cell_type": "markdown",
   "metadata": {},
   "source": [
    "### If working with Visual Behavior: 2P Ca2+ Imaging Data use the following code block to import the cache object and point it to the data already downloaded and stored on LongLeaf.  Do not change this code."
   ]
  },
  {
   "cell_type": "code",
   "execution_count": null,
   "metadata": {},
   "outputs": [],
   "source": [
    "#this code block should only be run if you are working with the visual behavior Ca2+ imaging data\n",
    "from allensdk.brain_observatory.behavior.behavior_project_cache import VisualBehaviorOphysProjectCache\n",
    "\n",
    "data_storage_directory = Path(\"/overflow/NSCI274/projects/ophysdata\")\n",
    "\n",
    "cache = VisualBehaviorOphysProjectCache.from_s3_cache(cache_dir=data_storage_directory)"
   ]
  },
  {
   "cell_type": "markdown",
   "metadata": {},
   "source": [
    "### To filter and sort the data into two lists, one for each sex."
   ]
  },
  {
   "cell_type": "code",
   "execution_count": null,
   "metadata": {},
   "outputs": [],
   "source": [
    "M_ophys_exp_data = ophys_experiments[ophys_experiments.sex == 'M']\n",
    "type(M_ophys_exp_data)\n",
    "print(\"Total Number of Males is: \" + str(len(M_ophys_exp_data)))\n",
    "\n",
    "F_ophys_exp_data = ophys_experiments[ophys_experiments.sex == 'F']\n",
    "print(\"Total Number of Females is: \" + str(len(F_ophys_exp_data)))"
   ]
  },
  {
   "cell_type": "markdown",
   "metadata": {},
   "source": [
    "### In order to know what genotypes are a part of the dataset, we will use the unique function to pull out the exact names of each genotype."
   ]
  },
  {
   "cell_type": "code",
   "execution_count": null,
   "metadata": {},
   "outputs": [],
   "source": [
    "M_ophys_exp_data.full_genotype.unique()"
   ]
  },
  {
   "cell_type": "code",
   "execution_count": null,
   "metadata": {},
   "outputs": [],
   "source": [
    "F_ophys_exp_data.full_genotype.unique()"
   ]
  },
  {
   "cell_type": "markdown",
   "metadata": {},
   "source": [
    "### Get a count of how many data points are excitatory neurons or inhibitory neurons."
   ]
  },
  {
   "cell_type": "markdown",
   "metadata": {},
   "source": [
    "#### Males"
   ]
  },
  {
   "cell_type": "code",
   "execution_count": null,
   "metadata": {},
   "outputs": [],
   "source": [
    "M_Excitatory_ophys_exp_id = (M_ophys_exp_data[M_ophys_exp_data.full_genotype == 'Slc17a7-IRES2-Cre/wt;Camk2a-tTA/wt;Ai94(TITL-GCaMP6s)/wt']\n",
    "                + M_ophys_exp_data[M_ophys_exp_data.full_genotype == 'Slc17a7-IRES2-Cre/wt;Camk2a-tTA/wt;Ai93(TITL-GCaMP6s)/wt'])\n",
    "\n",
    "print(\"Total Number of Male Neurons that are Excitatory is: \" + str(len(M_Excitatory_ophys_exp_id)))\n",
    "\n",
    "M_Inhibitory_ophys_exp_id = (M_ophys_exp_data[M_ophys_exp_data.full_genotype == 'Sst-IRES-Cre/wt;Ai148(TIT2L-GC6f-ICL-tTA2)/wt']\n",
    "                + M_ophys_exp_data[M_ophys_exp_data.full_genotype == 'Vip-IRES-Cre/wt;Ai148(TIT2L-GC6f-ICL-tTA2)/wt'])\n",
    "\n",
    "print(\"Total Number of Male Neurons that are Inhibitory is: \" + str(len(M_Inhibitory_ophys_exp_id)))"
   ]
  },
  {
   "cell_type": "markdown",
   "metadata": {},
   "source": [
    "#### Females"
   ]
  },
  {
   "cell_type": "code",
   "execution_count": null,
   "metadata": {},
   "outputs": [],
   "source": [
    "F_Excitatory_ophys_exp_id = (F_ophys_exp_data[F_ophys_exp_data.full_genotype == 'Slc17a7-IRES2-Cre/wt;Camk2a-tTA/wt;Ai94(TITL-GCaMP6s)/wt']\n",
    "                + F_ophys_exp_data[F_ophys_exp_data.full_genotype == 'Slc17a7-IRES2-Cre/wt;Camk2a-tTA/wt;Ai93(TITL-GCaMP6s)/wt'])\n",
    "\n",
    "print(\"Total number of inhibitory neurons measured for females is: \" + str(len(F_Excitatory_ophys_exp_id)))\n",
    "\n",
    "F_Inhibitory_ophys_exp_id = (F_ophys_exp_data[F_ophys_exp_data.full_genotype == 'Sst-IRES-Cre/wt;Ai148(TIT2L-GC6f-ICL-tTA2)/wt']\n",
    "                + F_ophys_exp_data[F_ophys_exp_data.full_genotype == 'Vip-IRES-Cre/wt;Ai148(TIT2L-GC6f-ICL-tTA2)/wt'])\n",
    "\n",
    "print(\"Total number of inhibitory neurons measured for females is: \" + str(len(F_Inhibitory_ophys_exp_id)))"
   ]
  },
  {
   "cell_type": "markdown",
   "metadata": {},
   "source": [
    "### Store the data for each index point that returns a mouse that has the excitatory genotypes in the case we need/decide to pursue this route of research as well."
   ]
  },
  {
   "cell_type": "markdown",
   "metadata": {},
   "source": [
    "#### Males "
   ]
  },
  {
   "cell_type": "code",
   "execution_count": null,
   "metadata": {},
   "outputs": [],
   "source": [
    "M_Excitatory_ophys_exp_tot = []\n",
    "for i in range(len(M_ophys_exp_data)):\n",
    "    full_genotype = M_ophys_exp_data.iloc[i,1]\n",
    "    x = M_ophys_exp_data.iloc[i].array\n",
    "    if full_genotype == 'Slc17a7-IRES2-Cre/wt;Camk2a-tTA/wt;Ai93(TITL-GCaMP6s)/wt':\n",
    "        M_Excitatory_ophys_exp_tot.append(x)\n",
    "    elif full_genotype == 'Slc17a7-IRES2-Cre/wt;Camk2a-tTA/wt;Ai94(TITL-GCaMP6s)/wt':\n",
    "        M_Excitatory_ophys_exp_tot.append(x)\n",
    "print(\"The number of excitatory neurons measured for males is: \" + str(len(M_Excitatory_ophys_exp_tot)))"
   ]
  },
  {
   "cell_type": "markdown",
   "metadata": {},
   "source": [
    "#### Females"
   ]
  },
  {
   "cell_type": "code",
   "execution_count": null,
   "metadata": {},
   "outputs": [],
   "source": [
    "F_Excitatory_ophys_exp_tot = []\n",
    "\n",
    "for i in range(len(F_ophys_exp_data)):\n",
    "    full_genotype = F_ophys_exp_data.iloc[i,1]\n",
    "    x = F_ophys_exp_data.iloc[i].array\n",
    "    if full_genotype == 'Slc17a7-IRES2-Cre/wt;Camk2a-tTA/wt;Ai93(TITL-GCaMP6s)/wt':\n",
    "        F_Excitatory_ophys_exp_tot.append(x)\n",
    "    elif full_genotype == 'Slc17a7-IRES2-Cre/wt;Camk2a-tTA/wt;Ai94(TITL-GCaMP6s)/wt':\n",
    "        F_Excitatory_ophys_exp_tot.append(x)\n",
    "print(\"The number of excitatory neurons measured for females is: \" + str(len(F_Excitatory_ophys_exp_tot)))"
   ]
  },
  {
   "cell_type": "markdown",
   "metadata": {},
   "source": [
    "### Store the data for each index that returns a mouse that has the inhibitory genotypes we are primarily interested in."
   ]
  },
  {
   "cell_type": "markdown",
   "metadata": {},
   "source": [
    "#### Males"
   ]
  },
  {
   "cell_type": "code",
   "execution_count": null,
   "metadata": {},
   "outputs": [],
   "source": [
    "M_Inhibitory_ophys_exp_tot = []\n",
    "\n",
    "for i in range(len(M_ophys_exp_data)):\n",
    "    full_genotype = M_ophys_exp_data.iloc[i,1]\n",
    "    x = M_ophys_exp_data.iloc[i].array\n",
    "    if full_genotype == 'Sst-IRES-Cre/wt;Ai148(TIT2L-GC6f-ICL-tTA2)/wt':\n",
    "        M_Inhibitory_ophys_exp_tot.append(x)\n",
    "    elif full_genotype == 'Vip-IRES-Cre/wt;Ai148(TIT2L-GC6f-ICL-tTA2)/wt':\n",
    "        M_Inhibitory_ophys_exp_tot.append(x)\n",
    "print(\"The number of inhibitory neurons measured for males is: \" + str(len(M_Inhibitory_ophys_exp_tot)))"
   ]
  },
  {
   "cell_type": "markdown",
   "metadata": {},
   "source": [
    "#### Females"
   ]
  },
  {
   "cell_type": "code",
   "execution_count": null,
   "metadata": {},
   "outputs": [],
   "source": [
    "F_Inhibitory_ophys_exp_tot = []\n",
    "\n",
    "for i in range(len(F_ophys_exp_data)):\n",
    "    full_genotype = F_ophys_exp_data.iloc[i,1]\n",
    "    x = F_ophys_exp_data.iloc[i].array\n",
    "    if full_genotype == 'Sst-IRES-Cre/wt;Ai148(TIT2L-GC6f-ICL-tTA2)/wt':\n",
    "        F_Inhibitory_ophys_exp_tot.append(x)\n",
    "    elif full_genotype == 'Vip-IRES-Cre/wt;Ai148(TIT2L-GC6f-ICL-tTA2)/wt':\n",
    "        F_Inhibitory_ophys_exp_tot.append(x)\n",
    "print(\"The number of inhibitory neurons measured for females is: \" + str(len(F_Inhibitory_ophys_exp_tot)))"
   ]
  },
  {
   "cell_type": "markdown",
   "metadata": {},
   "source": [
    "### Find what index in this list returns the targeted structure, the session type, and the depth of the probe column index."
   ]
  },
  {
   "cell_type": "code",
   "execution_count": null,
   "metadata": {},
   "outputs": [],
   "source": [
    "print(F_Inhibitory_ophys_exp_tot[0])"
   ]
  },
  {
   "cell_type": "markdown",
   "metadata": {},
   "source": [
    "### Separate the data into the VISp data for each sex "
   ]
  },
  {
   "cell_type": "markdown",
   "metadata": {},
   "source": [
    "##### We will have to fill in the indices found in the cell above."
   ]
  },
  {
   "cell_type": "markdown",
   "metadata": {},
   "source": [
    "##### !!IOET stands for inhibitory_ophys_exp_tot so we can keep consistent names but have short accurrate variable names!!"
   ]
  },
  {
   "cell_type": "markdown",
   "metadata": {},
   "source": [
    "#### Males"
   ]
  },
  {
   "cell_type": "code",
   "execution_count": null,
   "metadata": {},
   "outputs": [],
   "source": [
    "M_IOET_VISp = []\n",
    "\n",
    "for i in range(len(M_Inhibitory_ophys_exp_tot)):\n",
    "    target_structure = M_Inhibitory_ophys_exp_tot[i][See index comment in cell above]\n",
    "    x = M_Inhibitory_ophys_exp_tot[i]\n",
    "    if target_structure == 'VISp':\n",
    "        M_IOET_VISp.append(x)\n",
    "print(\"The number of inhibitory neurons measured for males in the VISp is: \" + str(len(M_IOET_VISp)))"
   ]
  },
  {
   "cell_type": "markdown",
   "metadata": {},
   "source": [
    "#### Females"
   ]
  },
  {
   "cell_type": "code",
   "execution_count": null,
   "metadata": {},
   "outputs": [],
   "source": [
    "F_IOET_VISp = []\n",
    "\n",
    "for i in range(len(F_Inhibitory_ophys_exp_tot)):\n",
    "    target_structure = F_Inhibitory_ophys_exp_tot[i][See index comment above a few cells]\n",
    "    x = F_Inhibitory_ophys_exp_tot[i]\n",
    "    if target_structure == 'VISp':\n",
    "        F_IOET_VISp.append(x)\n",
    "print(\"The number of inhibitory neurons measured for females in the VISp is: \" + str(len(F_IOET_VISp)))"
   ]
  },
  {
   "cell_type": "markdown",
   "metadata": {},
   "source": [
    "### Split data into the respective novel and familiar image trials per sex."
   ]
  },
  {
   "cell_type": "markdown",
   "metadata": {},
   "source": [
    "##### IOETV now stands for inhibitory_ophys_exp_tot_visp"
   ]
  },
  {
   "cell_type": "markdown",
   "metadata": {},
   "source": [
    "#### Males"
   ]
  },
  {
   "cell_type": "markdown",
   "metadata": {},
   "source": [
    "##### Familiar"
   ]
  },
  {
   "cell_type": "code",
   "execution_count": null,
   "metadata": {},
   "outputs": [],
   "source": [
    "M_IOETV_Familiar = []\n",
    "\n",
    "for i in range(len(M_IOET_VISp)):\n",
    "    session_type = M_IOET_VISp[i][See index comment above a few cells]\n",
    "    x = M_IOET_VISp[i]\n",
    "    if session_type == 'OPHYS_2_images_A_passive':\n",
    "        M_IOETV_Familiar.append(x)\n",
    "    elif session_type == 'OPHYS_2_images_B_passive':\n",
    "        M_IOETV_Familiar.append(x)\n",
    "print(\"The number of trials for males passively viewing familiar images is: \" + str(len(M_IOETV_Familiar)))"
   ]
  },
  {
   "cell_type": "markdown",
   "metadata": {},
   "source": [
    "##### Novel"
   ]
  },
  {
   "cell_type": "code",
   "execution_count": null,
   "metadata": {},
   "outputs": [],
   "source": [
    "M_IOETV_Novel = []\n",
    "\n",
    "for i in range(len(M_IOET_VISp)):\n",
    "    session_type = M_IOET_VISp[i][See index comment above a few cells]\n",
    "    x = M_IOET_VISp[i]\n",
    "    if session_type == 'OPHYS_5_images_A_passive':\n",
    "        M_IOETV_Novel.append(x)\n",
    "    elif session_type == 'OPHYS_5_images_B_passive':\n",
    "        M_IOETV_Novel.append(x)\n",
    "print(\"The number of trials males passively viewing novel images is: \" + str(len(M_IOETV_Novel)))"
   ]
  },
  {
   "cell_type": "markdown",
   "metadata": {},
   "source": [
    "#### Females"
   ]
  },
  {
   "cell_type": "markdown",
   "metadata": {},
   "source": [
    "##### Familiar"
   ]
  },
  {
   "cell_type": "code",
   "execution_count": null,
   "metadata": {},
   "outputs": [],
   "source": [
    "F_IOETV_Familiar = []\n",
    "\n",
    "for i in range(len(F_IOET_VISp)):\n",
    "    session_type = F_IOET_VISp[i][See index comment above a few cells]\n",
    "    x = F_IOET_VISp[i]\n",
    "    if session_type == 'OPHYS_2_images_A_passive':\n",
    "        F_IOETV_Familiar.append(x)\n",
    "    elif session_type == 'OPHYS_2_images_B_passive':\n",
    "        F_IOETV_Familiar.append(x)\n",
    "print(\"The number of trials for females passively viewing familiar images is: \" + str(len(F_IOETV_Familiar)))"
   ]
  },
  {
   "cell_type": "markdown",
   "metadata": {},
   "source": [
    "##### Novel"
   ]
  },
  {
   "cell_type": "code",
   "execution_count": null,
   "metadata": {},
   "outputs": [],
   "source": [
    "F_IOETV_Novel = []\n",
    "\n",
    "for i in range(len(F_IOET_VISp)):\n",
    "    session_type = F_IOET_VISp[i][See index comment above a few cells]\n",
    "    x = F_IOET_VISp[i]\n",
    "    if session_type == 'OPHYS_5_images_A_passive':\n",
    "        F_IOETV_Novel.append(x)\n",
    "    elif session_type == 'OPHYS_5_images_B_passive':\n",
    "        F_IOETV_Novel.append(x)\n",
    "print(\"The number of trials females passively viewing novel images is: \" + str(len(F_IOETV_Novel)))"
   ]
  },
  {
   "cell_type": "markdown",
   "metadata": {},
   "source": [
    "### If we have time, separate the data to see how many depths in the V1 were measured from"
   ]
  },
  {
   "cell_type": "code",
   "execution_count": null,
   "metadata": {},
   "outputs": [],
   "source": [
    "Depths_M_Familiar = set()\n",
    "\n",
    "for i in range(len(M_IOETV_Familiar)):\n",
    "    Depths_M_Familiar.add(M_IOETV_Familiar[i][See index comment above a few cells])\n",
    "\n",
    "print(\"There are \" + str(len(Depths_M_Familiar)) + \" different levels of imaging in the V1 area for inhibitory male neurons passively viewing familiar images.\")\n",
    "print(\"They are \"+ str(Depths_M_Familiar))\n",
    "\n",
    "Depths_M_Novel = set()\n",
    "\n",
    "for i in range(len(M_IOETV_Novel)):\n",
    "    Depths_M_Novel.add(M_IOETV_Novel[i][See index comment above a few cells])\n",
    "\n",
    "print(\"There are \" + str(len(Depths_M_Novel)) + \" different levels of imaging in the V1 area for inhibitory male neurons passively viewing novel images.\")\n",
    "print(\"They are \"+ str(Depths_M_Novel))\n",
    "\n",
    "Depths_F_Familiar = set()\n",
    "\n",
    "for i in range(len(F_IOETV_Familiar)):\n",
    "    Depths_F_Familiar.add(F_IOETV_Familiar[i][See index comment above a few cells])\n",
    "\n",
    "print(\"There are \" + str(len(Depths_F_Familiar)) + \" different levels of imaging in the V1 area for inhibitory female neurons passively viewing familiar images.\")\n",
    "print(\"They are \"+ str(Depths_F_Familiar))\n",
    "\n",
    "Depths_F_Novel = set()\n",
    "\n",
    "for i in range(len(F_IOETV_Novel)):\n",
    "    Depths_F_Novel.add(F_IOETV_Novel[i][See index comment above a few cells])\n",
    "\n",
    "print(\"There are \" + str(len(Depths_F_Novel)) + \" different levels of imaging in the V1 area for inhibitory female neurons passively viewing novel images.\")\n",
    "print(\"They are \"+ str(Depths_F_Novel))"
   ]
  },
  {
   "cell_type": "markdown",
   "metadata": {},
   "source": [
    "## Resources:\n",
    "\n",
    "\n",
    "### Sample Allen Jupyter Notebooks to get started:\n",
    "https://allensdk.readthedocs.io/en/latest/visual_behavior_optical_physiology.html\n",
    "https://allensdk.readthedocs.io/en/latest/visual_coding_neuropixels.html\n",
    "\n",
    "\n",
    "### Referenced NSCI290_2P_Ca_Imaging_Behavior_Inlab for data and variable names\n",
    "\n",
    "### Referenced to create for loops and if statements when using pandas dataframes\n",
    "https://www.datacamp.com/community/tutorials/for-loops-in-python"
   ]
  },
  {
   "cell_type": "code",
   "execution_count": null,
   "metadata": {},
   "outputs": [],
   "source": []
  }
 ],
 "metadata": {
  "kernelspec": {
   "display_name": "Python 3",
   "language": "python",
   "name": "python3"
  },
  "language_info": {
   "codemirror_mode": {
    "name": "ipython",
    "version": 3
   },
   "file_extension": ".py",
   "mimetype": "text/x-python",
   "name": "python",
   "nbconvert_exporter": "python",
   "pygments_lexer": "ipython3",
   "version": "3.8.3"
  }
 },
 "nbformat": 4,
 "nbformat_minor": 5
}
