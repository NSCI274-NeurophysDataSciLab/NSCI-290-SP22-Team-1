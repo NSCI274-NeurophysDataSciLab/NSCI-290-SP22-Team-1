{
 "cells": [
  {
   "cell_type": "markdown",
   "metadata": {},
   "source": [
    "# Examining Sex Differences in Visual Behavior Using 2-Photon Calcium Imaging in V1 when Viewing Novel vs Familiar Images"
   ]
  },
  {
   "cell_type": "markdown",
   "metadata": {},
   "source": [
    "### Name: Kylie Joyce and Allison Mccown\n",
    "\n",
    "\n",
    "### Date: 02/06/2022\n",
    "\n",
    "\n",
    "### PID: 730333803 and 730240150\n",
    "\n",
    "\n",
    "### Jupyter Notebook Number: 3"
   ]
  },
  {
   "cell_type": "markdown",
   "metadata": {},
   "source": [
    "## Purpose/Objective:\n",
    "To compare neuron activity in male vs female mice when looking at novel and familiar images. While in lab, we will use code to assess the amount of data obtained to answer our research question. "
   ]
  },
  {
   "cell_type": "markdown",
   "metadata": {},
   "source": [
    "## Protocol:\n",
    "First we will take previous data in 2-photon calcium imaging from area V1 and then split the data to compare male vs female. Next, we will analyze the neuron firing activity between males and females to see if there is a significant difference in the V1 region. "
   ]
  },
  {
   "cell_type": "markdown",
   "metadata": {},
   "source": [
    "## Expected Results:\n",
    "We expect to obtain more data from males than females, but hope that there is still enough to compare the two. There will be more neuron firing activity when the mice are viewing the novel images than the familiar images, and we think there will be a difference between sexes. "
   ]
  },
  {
   "cell_type": "markdown",
   "metadata": {},
   "source": [
    "### Installing AllenSDK into your local environment. "
   ]
  },
  {
   "cell_type": "code",
   "execution_count": 1,
   "metadata": {},
   "outputs": [
    {
     "name": "stdout",
     "output_type": "stream",
     "text": [
      "Defaulting to user installation because normal site-packages is not writeable\n",
      "Requirement already satisfied: allensdk in /nas/longleaf/home/kyliej35/.local/lib/python3.7/site-packages (2.13.2)\n",
      "Requirement already satisfied: glymur==0.8.19 in /nas/longleaf/home/kyliej35/.local/lib/python3.7/site-packages (from allensdk) (0.8.19)\n",
      "Requirement already satisfied: boto3==1.17.21 in /nas/longleaf/home/kyliej35/.local/lib/python3.7/site-packages (from allensdk) (1.17.21)\n",
      "Requirement already satisfied: matplotlib<3.4.3,>=1.4.3 in /nas/longleaf/apps/anaconda/2019.10.ood/lib/python3.7/site-packages (from allensdk) (3.1.1)\n",
      "Requirement already satisfied: cachetools<5.0.0,>=4.2.1 in /nas/longleaf/home/kyliej35/.local/lib/python3.7/site-packages (from allensdk) (4.2.4)\n",
      "Requirement already satisfied: hdmf>=2.5.8 in /nas/longleaf/home/kyliej35/.local/lib/python3.7/site-packages (from allensdk) (3.1.1)\n",
      "Requirement already satisfied: aiohttp==3.7.4 in /nas/longleaf/home/kyliej35/.local/lib/python3.7/site-packages (from allensdk) (3.7.4)\n",
      "Requirement already satisfied: six<2.0.0,>=1.9.0 in /nas/longleaf/apps/anaconda/2019.10.ood/lib/python3.7/site-packages (from allensdk) (1.15.0)\n",
      "Requirement already satisfied: simplejson<4.0.0,>=3.10.0 in /nas/longleaf/home/kyliej35/.local/lib/python3.7/site-packages (from allensdk) (3.17.6)\n",
      "Requirement already satisfied: xarray<0.16.0 in /nas/longleaf/home/kyliej35/.local/lib/python3.7/site-packages (from allensdk) (0.15.1)\n",
      "Requirement already satisfied: scipy<2.0.0,>=1.4.0 in /nas/longleaf/apps/anaconda/2019.10.ood/lib/python3.7/site-packages (from allensdk) (1.7.1)\n",
      "Requirement already satisfied: requests-toolbelt<1.0.0 in /nas/longleaf/home/kyliej35/.local/lib/python3.7/site-packages (from allensdk) (0.9.1)\n",
      "Requirement already satisfied: pynrrd<1.0.0,>=0.2.1 in /nas/longleaf/home/kyliej35/.local/lib/python3.7/site-packages (from allensdk) (0.4.2)\n",
      "Requirement already satisfied: scikit-build<1.0.0 in /nas/longleaf/home/kyliej35/.local/lib/python3.7/site-packages (from allensdk) (0.12.0)\n",
      "Requirement already satisfied: scikit-image<0.17.0,>=0.14.0 in /nas/longleaf/home/kyliej35/.local/lib/python3.7/site-packages (from allensdk) (0.16.2)\n",
      "Requirement already satisfied: semver in /nas/longleaf/home/kyliej35/.local/lib/python3.7/site-packages (from allensdk) (2.13.0)\n",
      "Requirement already satisfied: pynwb in /nas/longleaf/home/kyliej35/.local/lib/python3.7/site-packages (from allensdk) (2.0.0)\n",
      "Requirement already satisfied: tables<3.7.0,>=3.6.0 in /nas/longleaf/home/kyliej35/.local/lib/python3.7/site-packages (from allensdk) (3.6.1)\n",
      "Requirement already satisfied: nest-asyncio in /nas/longleaf/apps/anaconda/2019.10.ood/lib/python3.7/site-packages (from allensdk) (1.4.2)\n",
      "Requirement already satisfied: argschema<4.0.0,>=3.0.1 in /nas/longleaf/home/kyliej35/.local/lib/python3.7/site-packages (from allensdk) (3.0.1)\n",
      "Requirement already satisfied: psycopg2-binary<3.0.0,>=2.7 in /nas/longleaf/home/kyliej35/.local/lib/python3.7/site-packages (from allensdk) (2.9.3)\n",
      "Requirement already satisfied: simpleitk<3.0.0,>=2.0.2 in /nas/longleaf/home/kyliej35/.local/lib/python3.7/site-packages (from allensdk) (2.1.1)\n",
      "Requirement already satisfied: future<1.0.0,>=0.14.3 in /nas/longleaf/home/kyliej35/.local/lib/python3.7/site-packages (from allensdk) (0.18.2)\n",
      "Requirement already satisfied: seaborn<1.0.0 in /nas/longleaf/apps/anaconda/2019.10.ood/lib/python3.7/site-packages (from allensdk) (0.9.0)\n",
      "Requirement already satisfied: numpy in /nas/longleaf/apps/anaconda/2019.10.ood/lib/python3.7/site-packages (from allensdk) (1.21.2)\n",
      "Requirement already satisfied: statsmodels<=0.13.0 in /nas/longleaf/home/kyliej35/.local/lib/python3.7/site-packages (from allensdk) (0.13.0)\n",
      "Requirement already satisfied: tqdm>=4.27 in /nas/longleaf/home/kyliej35/.local/lib/python3.7/site-packages (from allensdk) (4.62.3)\n",
      "Requirement already satisfied: jinja2<2.12.0,>=2.7.3 in /nas/longleaf/apps/anaconda/2019.10.ood/lib/python3.7/site-packages (from allensdk) (2.11.2)\n",
      "Requirement already satisfied: requests<3.0.0 in /nas/longleaf/home/kyliej35/.local/lib/python3.7/site-packages (from allensdk) (2.27.1)\n",
      "Requirement already satisfied: h5py in /nas/longleaf/home/kyliej35/.local/lib/python3.7/site-packages (from allensdk) (3.6.0)\n",
      "Requirement already satisfied: ndx-events<=0.2.0 in /nas/longleaf/home/kyliej35/.local/lib/python3.7/site-packages (from allensdk) (0.2.0)\n",
      "Requirement already satisfied: pandas>=1.1.5 in /nas/longleaf/home/kyliej35/.local/lib/python3.7/site-packages (from allensdk) (1.3.5)\n",
      "Requirement already satisfied: chardet<4.0,>=2.0 in /nas/longleaf/home/kyliej35/.local/lib/python3.7/site-packages (from aiohttp==3.7.4->allensdk) (3.0.4)\n",
      "Requirement already satisfied: multidict<7.0,>=4.5 in /nas/longleaf/home/kyliej35/.local/lib/python3.7/site-packages (from aiohttp==3.7.4->allensdk) (6.0.2)\n",
      "Requirement already satisfied: async-timeout<4.0,>=3.0 in /nas/longleaf/home/kyliej35/.local/lib/python3.7/site-packages (from aiohttp==3.7.4->allensdk) (3.0.1)\n",
      "Requirement already satisfied: yarl<2.0,>=1.0 in /nas/longleaf/home/kyliej35/.local/lib/python3.7/site-packages (from aiohttp==3.7.4->allensdk) (1.7.2)\n",
      "Requirement already satisfied: attrs>=17.3.0 in /nas/longleaf/apps/anaconda/2019.10.ood/lib/python3.7/site-packages (from aiohttp==3.7.4->allensdk) (19.3.0)\n",
      "Requirement already satisfied: typing-extensions>=3.6.5 in /nas/longleaf/apps/anaconda/2019.10.ood/lib/python3.7/site-packages (from aiohttp==3.7.4->allensdk) (3.7.4.3)\n",
      "Requirement already satisfied: jmespath<1.0.0,>=0.7.1 in /nas/longleaf/home/kyliej35/.local/lib/python3.7/site-packages (from boto3==1.17.21->allensdk) (0.10.0)\n",
      "Requirement already satisfied: botocore<1.21.0,>=1.20.21 in /nas/longleaf/home/kyliej35/.local/lib/python3.7/site-packages (from boto3==1.17.21->allensdk) (1.20.112)\n",
      "Requirement already satisfied: s3transfer<0.4.0,>=0.3.0 in /nas/longleaf/home/kyliej35/.local/lib/python3.7/site-packages (from boto3==1.17.21->allensdk) (0.3.7)\n",
      "Requirement already satisfied: setuptools in /nas/longleaf/apps/anaconda/2019.10.ood/lib/python3.7/site-packages (from glymur==0.8.19->allensdk) (49.6.0.post20200814)\n",
      "Requirement already satisfied: marshmallow<4.0,>=3.0.0 in /nas/longleaf/home/kyliej35/.local/lib/python3.7/site-packages (from argschema<4.0.0,>=3.0.1->allensdk) (3.14.1)\n",
      "Requirement already satisfied: pyyaml in /nas/longleaf/home/kyliej35/.local/lib/python3.7/site-packages (from argschema<4.0.0,>=3.0.1->allensdk) (6.0)\n",
      "Requirement already satisfied: jsonschema<4,>=2.6.0 in /nas/longleaf/apps/anaconda/2019.10.ood/lib/python3.7/site-packages (from hdmf>=2.5.8->allensdk) (3.0.2)\n",
      "Collecting ruamel.yaml<1,>=0.16\n",
      "  Downloading ruamel.yaml-0.17.21-py3-none-any.whl (109 kB)\n",
      "\u001b[2K     \u001b[90m━━━━━━━━━━━━━━━━━━━━━━━━━━━━━━━━━━━━━━━\u001b[0m \u001b[32m109.5/109.5 KB\u001b[0m \u001b[31m3.0 MB/s\u001b[0m eta \u001b[36m0:00:00\u001b[0m\n",
      "\u001b[?25hRequirement already satisfied: cached-property in /nas/longleaf/home/kyliej35/.local/lib/python3.7/site-packages (from h5py->allensdk) (1.5.2)\n",
      "Requirement already satisfied: MarkupSafe>=0.23 in /nas/longleaf/apps/anaconda/2019.10.ood/lib/python3.7/site-packages (from jinja2<2.12.0,>=2.7.3->allensdk) (1.1.1)\n",
      "Requirement already satisfied: cycler>=0.10 in /nas/longleaf/apps/anaconda/2019.10.ood/lib/python3.7/site-packages (from matplotlib<3.4.3,>=1.4.3->allensdk) (0.10.0)\n",
      "Requirement already satisfied: kiwisolver>=1.0.1 in /nas/longleaf/apps/anaconda/2019.10.ood/lib/python3.7/site-packages (from matplotlib<3.4.3,>=1.4.3->allensdk) (1.1.0)\n",
      "Requirement already satisfied: pyparsing!=2.0.4,!=2.1.2,!=2.1.6,>=2.0.1 in /nas/longleaf/apps/anaconda/2019.10.ood/lib/python3.7/site-packages (from matplotlib<3.4.3,>=1.4.3->allensdk) (2.4.7)\n",
      "Requirement already satisfied: python-dateutil>=2.1 in /nas/longleaf/apps/anaconda/2019.10.ood/lib/python3.7/site-packages (from matplotlib<3.4.3,>=1.4.3->allensdk) (2.8.1)\n",
      "Requirement already satisfied: pytz>=2017.3 in /nas/longleaf/apps/anaconda/2019.10.ood/lib/python3.7/site-packages (from pandas>=1.1.5->allensdk) (2020.1)\n",
      "Requirement already satisfied: certifi>=2017.4.17 in /nas/longleaf/apps/anaconda/2019.10.ood/lib/python3.7/site-packages (from requests<3.0.0->allensdk) (2019.11.28)\n",
      "Requirement already satisfied: charset-normalizer~=2.0.0 in /nas/longleaf/home/kyliej35/.local/lib/python3.7/site-packages (from requests<3.0.0->allensdk) (2.0.11)\n",
      "Requirement already satisfied: urllib3<1.27,>=1.21.1 in /nas/longleaf/home/kyliej35/.local/lib/python3.7/site-packages (from requests<3.0.0->allensdk) (1.26.8)\n",
      "Requirement already satisfied: idna<4,>=2.5 in /nas/longleaf/home/kyliej35/.local/lib/python3.7/site-packages (from requests<3.0.0->allensdk) (3.3)\n",
      "Requirement already satisfied: packaging in /nas/longleaf/apps/anaconda/2019.10.ood/lib/python3.7/site-packages (from scikit-build<1.0.0->allensdk) (20.4)\n",
      "Requirement already satisfied: distro in /nas/longleaf/home/kyliej35/.local/lib/python3.7/site-packages (from scikit-build<1.0.0->allensdk) (1.6.0)\n",
      "Requirement already satisfied: wheel>=0.29.0 in /nas/longleaf/apps/anaconda/2019.10.ood/lib/python3.7/site-packages (from scikit-build<1.0.0->allensdk) (0.34.2)\n",
      "Requirement already satisfied: imageio>=2.3.0 in /nas/longleaf/home/kyliej35/.local/lib/python3.7/site-packages (from scikit-image<0.17.0,>=0.14.0->allensdk) (2.14.1)\n",
      "Requirement already satisfied: networkx>=2.0 in /nas/longleaf/home/kyliej35/.local/lib/python3.7/site-packages (from scikit-image<0.17.0,>=0.14.0->allensdk) (2.6.3)\n",
      "Requirement already satisfied: pillow>=4.3.0 in /nas/longleaf/home/kyliej35/.local/lib/python3.7/site-packages (from scikit-image<0.17.0,>=0.14.0->allensdk) (9.0.0)\n",
      "Requirement already satisfied: PyWavelets>=0.4.0 in /nas/longleaf/home/kyliej35/.local/lib/python3.7/site-packages (from scikit-image<0.17.0,>=0.14.0->allensdk) (1.2.0)\n",
      "Requirement already satisfied: patsy>=0.5.2 in /nas/longleaf/home/kyliej35/.local/lib/python3.7/site-packages (from statsmodels<=0.13.0->allensdk) (0.5.2)\n",
      "Requirement already satisfied: numexpr>=2.6.2 in /nas/longleaf/home/kyliej35/.local/lib/python3.7/site-packages (from tables<3.7.0,>=3.6.0->allensdk) (2.8.1)\n",
      "Requirement already satisfied: pyrsistent>=0.14.0 in /nas/longleaf/apps/anaconda/2019.10.ood/lib/python3.7/site-packages (from jsonschema<4,>=2.6.0->hdmf>=2.5.8->allensdk) (0.16.0)\n",
      "Requirement already satisfied: ruamel.yaml.clib>=0.2.6 in /nas/longleaf/home/kyliej35/.local/lib/python3.7/site-packages (from ruamel.yaml<1,>=0.16->hdmf>=2.5.8->allensdk) (0.2.6)\n",
      "Installing collected packages: ruamel.yaml\n",
      "\u001b[31mERROR: pip's dependency resolver does not currently take into account all the packages that are installed. This behaviour is the source of the following dependency conflicts.\n",
      "deeplabcut 2.1.6.2 requires h5py~=2.7, but you have h5py 3.6.0 which is incompatible.\n",
      "deeplabcut 2.1.6.2 requires matplotlib==3.0.3, but you have matplotlib 3.1.1 which is incompatible.\n",
      "deeplabcut 2.1.6.2 requires numpy==1.16.4, but you have numpy 1.21.2 which is incompatible.\u001b[0m\u001b[31m\n",
      "\u001b[0mSuccessfully installed ruamel.yaml-0.17.21\n",
      "Note: you may need to restart the kernel to use updated packages.\n"
     ]
    }
   ],
   "source": [
    "pip install allensdk"
   ]
  },
  {
   "cell_type": "markdown",
   "metadata": {},
   "source": [
    "### Import Packages:"
   ]
  },
  {
   "cell_type": "code",
   "execution_count": 2,
   "metadata": {},
   "outputs": [],
   "source": [
    "import os\n",
    "import shutil\n",
    "import allensdk\n",
    "import pprint\n",
    "from pathlib import Path\n",
    "\n",
    "import numpy as np\n",
    "import pandas as pd\n",
    "import scipy.stats as st\n",
    "\n",
    "import matplotlib.pyplot as plt\n",
    "%matplotlib inline\n",
    "import seaborn as sns\n",
    "sns.set_context('notebook', font_scale=1.5, rc={'lines.markeredgewidth': 2})"
   ]
  },
  {
   "cell_type": "markdown",
   "metadata": {},
   "source": [
    "### If working with Visual Coding: 2P Ca2+ Imaging Data use the following code block to import the cache object and point it to the data already downloaded and stored on LongLeaf.  Do not change this code."
   ]
  },
  {
   "cell_type": "code",
   "execution_count": 3,
   "metadata": {},
   "outputs": [],
   "source": [
    "#this code block should only be run if you are working with the brain observatory Ca2+ imaging data\n",
    "from allensdk.core.brain_observatory_cache import BrainObservatoryCache\n",
    "\n",
    "drive_path = '/overflow/NSCI274/projects/BrainObservatoryOPhysData/'\n",
    "\n",
    "manifest_file = os.path.join(drive_path,'manifest.json')\n",
    "\n",
    "boc = BrainObservatoryCache(manifest_file=manifest_file)"
   ]
  },
  {
   "cell_type": "markdown",
   "metadata": {},
   "source": [
    "### If working with Visual Behavior: 2P Ca2+ Imaging Data use the following code block to import the cache object and point it to the data already downloaded and stored on LongLeaf.  Do not change this code."
   ]
  },
  {
   "cell_type": "code",
   "execution_count": 4,
   "metadata": {},
   "outputs": [],
   "source": [
    "#this code block should only be run if you are working with the visual behavior Ca2+ imaging data\n",
    "from allensdk.brain_observatory.behavior.behavior_project_cache import VisualBehaviorOphysProjectCache\n",
    "\n",
    "data_storage_directory = Path(\"/overflow/NSCI274/projects/ophysdata\")\n",
    "\n",
    "cache = VisualBehaviorOphysProjectCache.from_s3_cache(cache_dir=data_storage_directory)"
   ]
  },
  {
   "cell_type": "code",
   "execution_count": 9,
   "metadata": {},
   "outputs": [
    {
     "name": "stdout",
     "output_type": "stream",
     "text": [
      "Total number of behavior sessions: 4787\n"
     ]
    },
    {
     "data": {
      "text/html": [
       "<div>\n",
       "<style scoped>\n",
       "    .dataframe tbody tr th:only-of-type {\n",
       "        vertical-align: middle;\n",
       "    }\n",
       "\n",
       "    .dataframe tbody tr th {\n",
       "        vertical-align: top;\n",
       "    }\n",
       "\n",
       "    .dataframe thead th {\n",
       "        text-align: right;\n",
       "    }\n",
       "</style>\n",
       "<table border=\"1\" class=\"dataframe\">\n",
       "  <thead>\n",
       "    <tr style=\"text-align: right;\">\n",
       "      <th></th>\n",
       "      <th>equipment_name</th>\n",
       "      <th>full_genotype</th>\n",
       "      <th>mouse_id</th>\n",
       "      <th>reporter_line</th>\n",
       "      <th>driver_line</th>\n",
       "      <th>sex</th>\n",
       "      <th>age_in_days</th>\n",
       "      <th>cre_line</th>\n",
       "      <th>indicator</th>\n",
       "      <th>session_number</th>\n",
       "      <th>prior_exposures_to_session_type</th>\n",
       "      <th>prior_exposures_to_image_set</th>\n",
       "      <th>prior_exposures_to_omissions</th>\n",
       "      <th>ophys_session_id</th>\n",
       "      <th>ophys_experiment_id</th>\n",
       "      <th>ophys_container_id</th>\n",
       "      <th>project_code</th>\n",
       "      <th>date_of_acquisition</th>\n",
       "      <th>session_type</th>\n",
       "      <th>file_id</th>\n",
       "    </tr>\n",
       "    <tr>\n",
       "      <th>behavior_session_id</th>\n",
       "      <th></th>\n",
       "      <th></th>\n",
       "      <th></th>\n",
       "      <th></th>\n",
       "      <th></th>\n",
       "      <th></th>\n",
       "      <th></th>\n",
       "      <th></th>\n",
       "      <th></th>\n",
       "      <th></th>\n",
       "      <th></th>\n",
       "      <th></th>\n",
       "      <th></th>\n",
       "      <th></th>\n",
       "      <th></th>\n",
       "      <th></th>\n",
       "      <th></th>\n",
       "      <th></th>\n",
       "      <th></th>\n",
       "      <th></th>\n",
       "    </tr>\n",
       "  </thead>\n",
       "  <tbody>\n",
       "    <tr>\n",
       "      <th>870987812</th>\n",
       "      <td>BEH.D-Box1</td>\n",
       "      <td>Sst-IRES-Cre/wt;Ai148(TIT2L-GC6f-ICL-tTA2)/wt</td>\n",
       "      <td>457841</td>\n",
       "      <td>Ai148(TIT2L-GC6f-ICL-tTA2)</td>\n",
       "      <td>[Sst-IRES-Cre]</td>\n",
       "      <td>F</td>\n",
       "      <td>80.0</td>\n",
       "      <td>Sst-IRES-Cre</td>\n",
       "      <td>GCaMP6f</td>\n",
       "      <td>NaN</td>\n",
       "      <td>0.0</td>\n",
       "      <td>NaN</td>\n",
       "      <td>0.0</td>\n",
       "      <td>NaN</td>\n",
       "      <td>NaN</td>\n",
       "      <td>NaN</td>\n",
       "      <td>NaN</td>\n",
       "      <td>2019-05-17 14:46:33.550</td>\n",
       "      <td>TRAINING_0_gratings_autorewards_15min</td>\n",
       "      <td>1.085368e+09</td>\n",
       "    </tr>\n",
       "    <tr>\n",
       "      <th>872953842</th>\n",
       "      <td>BEH.D-Box1</td>\n",
       "      <td>Sst-IRES-Cre/wt;Ai148(TIT2L-GC6f-ICL-tTA2)/wt</td>\n",
       "      <td>457841</td>\n",
       "      <td>Ai148(TIT2L-GC6f-ICL-tTA2)</td>\n",
       "      <td>[Sst-IRES-Cre]</td>\n",
       "      <td>F</td>\n",
       "      <td>84.0</td>\n",
       "      <td>Sst-IRES-Cre</td>\n",
       "      <td>GCaMP6f</td>\n",
       "      <td>NaN</td>\n",
       "      <td>0.0</td>\n",
       "      <td>NaN</td>\n",
       "      <td>0.0</td>\n",
       "      <td>NaN</td>\n",
       "      <td>NaN</td>\n",
       "      <td>NaN</td>\n",
       "      <td>NaN</td>\n",
       "      <td>2019-05-21 13:22:20.613</td>\n",
       "      <td>TRAINING_1_gratings</td>\n",
       "      <td>1.085368e+09</td>\n",
       "    </tr>\n",
       "    <tr>\n",
       "      <th>873774125</th>\n",
       "      <td>BEH.D-Box1</td>\n",
       "      <td>Sst-IRES-Cre/wt;Ai148(TIT2L-GC6f-ICL-tTA2)/wt</td>\n",
       "      <td>457841</td>\n",
       "      <td>Ai148(TIT2L-GC6f-ICL-tTA2)</td>\n",
       "      <td>[Sst-IRES-Cre]</td>\n",
       "      <td>F</td>\n",
       "      <td>85.0</td>\n",
       "      <td>Sst-IRES-Cre</td>\n",
       "      <td>GCaMP6f</td>\n",
       "      <td>NaN</td>\n",
       "      <td>1.0</td>\n",
       "      <td>NaN</td>\n",
       "      <td>0.0</td>\n",
       "      <td>NaN</td>\n",
       "      <td>NaN</td>\n",
       "      <td>NaN</td>\n",
       "      <td>NaN</td>\n",
       "      <td>2019-05-22 13:19:52.005</td>\n",
       "      <td>TRAINING_1_gratings</td>\n",
       "      <td>1.085368e+09</td>\n",
       "    </tr>\n",
       "    <tr>\n",
       "      <th>874790261</th>\n",
       "      <td>BEH.D-Box1</td>\n",
       "      <td>Sst-IRES-Cre/wt;Ai148(TIT2L-GC6f-ICL-tTA2)/wt</td>\n",
       "      <td>457841</td>\n",
       "      <td>Ai148(TIT2L-GC6f-ICL-tTA2)</td>\n",
       "      <td>[Sst-IRES-Cre]</td>\n",
       "      <td>F</td>\n",
       "      <td>86.0</td>\n",
       "      <td>Sst-IRES-Cre</td>\n",
       "      <td>GCaMP6f</td>\n",
       "      <td>NaN</td>\n",
       "      <td>2.0</td>\n",
       "      <td>NaN</td>\n",
       "      <td>0.0</td>\n",
       "      <td>NaN</td>\n",
       "      <td>NaN</td>\n",
       "      <td>NaN</td>\n",
       "      <td>NaN</td>\n",
       "      <td>2019-05-23 13:40:31.405</td>\n",
       "      <td>TRAINING_1_gratings</td>\n",
       "      <td>1.085368e+09</td>\n",
       "    </tr>\n",
       "    <tr>\n",
       "      <th>875207834</th>\n",
       "      <td>BEH.D-Box1</td>\n",
       "      <td>Sst-IRES-Cre/wt;Ai148(TIT2L-GC6f-ICL-tTA2)/wt</td>\n",
       "      <td>457841</td>\n",
       "      <td>Ai148(TIT2L-GC6f-ICL-tTA2)</td>\n",
       "      <td>[Sst-IRES-Cre]</td>\n",
       "      <td>F</td>\n",
       "      <td>87.0</td>\n",
       "      <td>Sst-IRES-Cre</td>\n",
       "      <td>GCaMP6f</td>\n",
       "      <td>NaN</td>\n",
       "      <td>3.0</td>\n",
       "      <td>NaN</td>\n",
       "      <td>0.0</td>\n",
       "      <td>NaN</td>\n",
       "      <td>NaN</td>\n",
       "      <td>NaN</td>\n",
       "      <td>NaN</td>\n",
       "      <td>2019-05-24 11:06:39.332</td>\n",
       "      <td>TRAINING_1_gratings</td>\n",
       "      <td>1.085368e+09</td>\n",
       "    </tr>\n",
       "  </tbody>\n",
       "</table>\n",
       "</div>"
      ],
      "text/plain": [
       "                    equipment_name  \\\n",
       "behavior_session_id                  \n",
       "870987812               BEH.D-Box1   \n",
       "872953842               BEH.D-Box1   \n",
       "873774125               BEH.D-Box1   \n",
       "874790261               BEH.D-Box1   \n",
       "875207834               BEH.D-Box1   \n",
       "\n",
       "                                                     full_genotype  mouse_id  \\\n",
       "behavior_session_id                                                            \n",
       "870987812            Sst-IRES-Cre/wt;Ai148(TIT2L-GC6f-ICL-tTA2)/wt    457841   \n",
       "872953842            Sst-IRES-Cre/wt;Ai148(TIT2L-GC6f-ICL-tTA2)/wt    457841   \n",
       "873774125            Sst-IRES-Cre/wt;Ai148(TIT2L-GC6f-ICL-tTA2)/wt    457841   \n",
       "874790261            Sst-IRES-Cre/wt;Ai148(TIT2L-GC6f-ICL-tTA2)/wt    457841   \n",
       "875207834            Sst-IRES-Cre/wt;Ai148(TIT2L-GC6f-ICL-tTA2)/wt    457841   \n",
       "\n",
       "                                  reporter_line     driver_line sex  \\\n",
       "behavior_session_id                                                   \n",
       "870987812            Ai148(TIT2L-GC6f-ICL-tTA2)  [Sst-IRES-Cre]   F   \n",
       "872953842            Ai148(TIT2L-GC6f-ICL-tTA2)  [Sst-IRES-Cre]   F   \n",
       "873774125            Ai148(TIT2L-GC6f-ICL-tTA2)  [Sst-IRES-Cre]   F   \n",
       "874790261            Ai148(TIT2L-GC6f-ICL-tTA2)  [Sst-IRES-Cre]   F   \n",
       "875207834            Ai148(TIT2L-GC6f-ICL-tTA2)  [Sst-IRES-Cre]   F   \n",
       "\n",
       "                     age_in_days      cre_line indicator  session_number  \\\n",
       "behavior_session_id                                                        \n",
       "870987812                   80.0  Sst-IRES-Cre   GCaMP6f             NaN   \n",
       "872953842                   84.0  Sst-IRES-Cre   GCaMP6f             NaN   \n",
       "873774125                   85.0  Sst-IRES-Cre   GCaMP6f             NaN   \n",
       "874790261                   86.0  Sst-IRES-Cre   GCaMP6f             NaN   \n",
       "875207834                   87.0  Sst-IRES-Cre   GCaMP6f             NaN   \n",
       "\n",
       "                     prior_exposures_to_session_type  \\\n",
       "behavior_session_id                                    \n",
       "870987812                                        0.0   \n",
       "872953842                                        0.0   \n",
       "873774125                                        1.0   \n",
       "874790261                                        2.0   \n",
       "875207834                                        3.0   \n",
       "\n",
       "                     prior_exposures_to_image_set  \\\n",
       "behavior_session_id                                 \n",
       "870987812                                     NaN   \n",
       "872953842                                     NaN   \n",
       "873774125                                     NaN   \n",
       "874790261                                     NaN   \n",
       "875207834                                     NaN   \n",
       "\n",
       "                     prior_exposures_to_omissions  ophys_session_id  \\\n",
       "behavior_session_id                                                   \n",
       "870987812                                     0.0               NaN   \n",
       "872953842                                     0.0               NaN   \n",
       "873774125                                     0.0               NaN   \n",
       "874790261                                     0.0               NaN   \n",
       "875207834                                     0.0               NaN   \n",
       "\n",
       "                    ophys_experiment_id ophys_container_id project_code  \\\n",
       "behavior_session_id                                                       \n",
       "870987812                           NaN                NaN          NaN   \n",
       "872953842                           NaN                NaN          NaN   \n",
       "873774125                           NaN                NaN          NaN   \n",
       "874790261                           NaN                NaN          NaN   \n",
       "875207834                           NaN                NaN          NaN   \n",
       "\n",
       "                         date_of_acquisition  \\\n",
       "behavior_session_id                            \n",
       "870987812            2019-05-17 14:46:33.550   \n",
       "872953842            2019-05-21 13:22:20.613   \n",
       "873774125            2019-05-22 13:19:52.005   \n",
       "874790261            2019-05-23 13:40:31.405   \n",
       "875207834            2019-05-24 11:06:39.332   \n",
       "\n",
       "                                              session_type       file_id  \n",
       "behavior_session_id                                                       \n",
       "870987812            TRAINING_0_gratings_autorewards_15min  1.085368e+09  \n",
       "872953842                              TRAINING_1_gratings  1.085368e+09  \n",
       "873774125                              TRAINING_1_gratings  1.085368e+09  \n",
       "874790261                              TRAINING_1_gratings  1.085368e+09  \n",
       "875207834                              TRAINING_1_gratings  1.085368e+09  "
      ]
     },
     "execution_count": 9,
     "metadata": {},
     "output_type": "execute_result"
    }
   ],
   "source": [
    "behavior_sessions = cache.get_behavior_session_table()\n",
    "\n",
    "print(f\"Total number of behavior sessions: {len(behavior_sessions)}\")\n",
    "\n",
    "behavior_sessions.head()"
   ]
  },
  {
   "cell_type": "markdown",
   "metadata": {},
   "source": [
    "The `behavior_session_table` DataFrame provides a high-level overview for behavior sessions in the Visual Behavior dataset. The index column (behavior_session_id) is a unique ID, which serves as a key for access behavior data for each session. To get additional information about this data table (and other tables) please visit [this example notebook](https://allensdk.readthedocs.io/en/latest/_static/examples/nb/visual_behavior_ophys_dataset_manifest.html). "
   ]
  },
  {
   "cell_type": "markdown",
   "metadata": {},
   "source": [
    "During lab we plan to ask Dr. Penton if we can analyze the data further by just looking at area V1. "
   ]
  },
  {
   "cell_type": "code",
   "execution_count": 6,
   "metadata": {},
   "outputs": [
    {
     "data": {
      "text/plain": [
       "Index(['equipment_name', 'full_genotype', 'mouse_id', 'reporter_line',\n",
       "       'driver_line', 'sex', 'age_in_days', 'cre_line', 'indicator',\n",
       "       'session_number', 'prior_exposures_to_session_type',\n",
       "       'prior_exposures_to_image_set', 'prior_exposures_to_omissions',\n",
       "       'ophys_session_id', 'ophys_experiment_id', 'ophys_container_id',\n",
       "       'project_code', 'date_of_acquisition', 'session_type', 'file_id'],\n",
       "      dtype='object')"
      ]
     },
     "execution_count": 6,
     "metadata": {},
     "output_type": "execute_result"
    }
   ],
   "source": [
    "behavior_sessions.columns"
   ]
  },
  {
   "cell_type": "markdown",
   "metadata": {},
   "source": [
    "We will sort the data based on male vs female. "
   ]
  },
  {
   "cell_type": "code",
   "execution_count": 7,
   "metadata": {},
   "outputs": [
    {
     "name": "stdout",
     "output_type": "stream",
     "text": [
      "Total Number of Males is: 2936\n",
      "                    equipment_name  \\\n",
      "behavior_session_id                  \n",
      "930435266               BEH.B-Box6   \n",
      "932176731               BEH.B-Box4   \n",
      "933004984               BEH.B-Box6   \n",
      "934182630               BEH.B-Box6   \n",
      "935222980               BEH.B-Box6   \n",
      "...                            ...   \n",
      "961819631                  CAM2P.3   \n",
      "962922731                  CAM2P.3   \n",
      "963663505                  CAM2P.3   \n",
      "964871967                  CAM2P.3   \n",
      "965505185                  CAM2P.3   \n",
      "\n",
      "                                                     full_genotype  mouse_id  \\\n",
      "behavior_session_id                                                            \n",
      "930435266            Sst-IRES-Cre/wt;Ai148(TIT2L-GC6f-ICL-tTA2)/wt    476970   \n",
      "932176731            Sst-IRES-Cre/wt;Ai148(TIT2L-GC6f-ICL-tTA2)/wt    476970   \n",
      "933004984            Sst-IRES-Cre/wt;Ai148(TIT2L-GC6f-ICL-tTA2)/wt    476970   \n",
      "934182630            Sst-IRES-Cre/wt;Ai148(TIT2L-GC6f-ICL-tTA2)/wt    476970   \n",
      "935222980            Sst-IRES-Cre/wt;Ai148(TIT2L-GC6f-ICL-tTA2)/wt    476970   \n",
      "...                                                            ...       ...   \n",
      "961819631            Vip-IRES-Cre/wt;Ai148(TIT2L-GC6f-ICL-tTA2)/wt    467954   \n",
      "962922731            Vip-IRES-Cre/wt;Ai148(TIT2L-GC6f-ICL-tTA2)/wt    467954   \n",
      "963663505            Vip-IRES-Cre/wt;Ai148(TIT2L-GC6f-ICL-tTA2)/wt    467954   \n",
      "964871967            Vip-IRES-Cre/wt;Ai148(TIT2L-GC6f-ICL-tTA2)/wt    467954   \n",
      "965505185            Vip-IRES-Cre/wt;Ai148(TIT2L-GC6f-ICL-tTA2)/wt    467954   \n",
      "\n",
      "                                  reporter_line     driver_line sex  \\\n",
      "behavior_session_id                                                   \n",
      "930435266            Ai148(TIT2L-GC6f-ICL-tTA2)  [Sst-IRES-Cre]   M   \n",
      "932176731            Ai148(TIT2L-GC6f-ICL-tTA2)  [Sst-IRES-Cre]   M   \n",
      "933004984            Ai148(TIT2L-GC6f-ICL-tTA2)  [Sst-IRES-Cre]   M   \n",
      "934182630            Ai148(TIT2L-GC6f-ICL-tTA2)  [Sst-IRES-Cre]   M   \n",
      "935222980            Ai148(TIT2L-GC6f-ICL-tTA2)  [Sst-IRES-Cre]   M   \n",
      "...                                         ...             ...  ..   \n",
      "961819631            Ai148(TIT2L-GC6f-ICL-tTA2)  [Vip-IRES-Cre]   M   \n",
      "962922731            Ai148(TIT2L-GC6f-ICL-tTA2)  [Vip-IRES-Cre]   M   \n",
      "963663505            Ai148(TIT2L-GC6f-ICL-tTA2)  [Vip-IRES-Cre]   M   \n",
      "964871967            Ai148(TIT2L-GC6f-ICL-tTA2)  [Vip-IRES-Cre]   M   \n",
      "965505185            Ai148(TIT2L-GC6f-ICL-tTA2)  [Vip-IRES-Cre]   M   \n",
      "\n",
      "                     age_in_days      cre_line indicator  session_number  \\\n",
      "behavior_session_id                                                        \n",
      "930435266                   84.0  Sst-IRES-Cre   GCaMP6f             NaN   \n",
      "932176731                   87.0  Sst-IRES-Cre   GCaMP6f             NaN   \n",
      "933004984                   88.0  Sst-IRES-Cre   GCaMP6f             NaN   \n",
      "934182630                   89.0  Sst-IRES-Cre   GCaMP6f             NaN   \n",
      "935222980                   90.0  Sst-IRES-Cre   GCaMP6f             NaN   \n",
      "...                          ...           ...       ...             ...   \n",
      "961819631                  174.0  Vip-IRES-Cre   GCaMP6f             3.0   \n",
      "962922731                  175.0  Vip-IRES-Cre   GCaMP6f             2.0   \n",
      "963663505                  176.0  Vip-IRES-Cre   GCaMP6f             4.0   \n",
      "964871967                  177.0  Vip-IRES-Cre   GCaMP6f             5.0   \n",
      "965505185                  178.0  Vip-IRES-Cre   GCaMP6f             6.0   \n",
      "\n",
      "                     prior_exposures_to_session_type  \\\n",
      "behavior_session_id                                    \n",
      "930435266                                        0.0   \n",
      "932176731                                        0.0   \n",
      "933004984                                        1.0   \n",
      "934182630                                        2.0   \n",
      "935222980                                        3.0   \n",
      "...                                              ...   \n",
      "961819631                                        1.0   \n",
      "962922731                                        0.0   \n",
      "963663505                                        0.0   \n",
      "964871967                                        0.0   \n",
      "965505185                                        0.0   \n",
      "\n",
      "                     prior_exposures_to_image_set  \\\n",
      "behavior_session_id                                 \n",
      "930435266                                     NaN   \n",
      "932176731                                     NaN   \n",
      "933004984                                     NaN   \n",
      "934182630                                     NaN   \n",
      "935222980                                     NaN   \n",
      "...                                           ...   \n",
      "961819631                                    26.0   \n",
      "962922731                                    27.0   \n",
      "963663505                                     0.0   \n",
      "964871967                                     1.0   \n",
      "965505185                                     2.0   \n",
      "\n",
      "                     prior_exposures_to_omissions  ophys_session_id  \\\n",
      "behavior_session_id                                                   \n",
      "930435266                                     0.0               NaN   \n",
      "932176731                                     0.0               NaN   \n",
      "933004984                                     0.0               NaN   \n",
      "934182630                                     0.0               NaN   \n",
      "935222980                                     0.0               NaN   \n",
      "...                                           ...               ...   \n",
      "961819631                                     2.0       961665529.0   \n",
      "962922731                                     3.0       962736894.0   \n",
      "963663505                                     4.0       963496285.0   \n",
      "964871967                                     5.0       964660947.0   \n",
      "965505185                                     6.0       965319434.0   \n",
      "\n",
      "                    ophys_experiment_id ophys_container_id  \\\n",
      "behavior_session_id                                          \n",
      "930435266                           NaN                NaN   \n",
      "932176731                           NaN                NaN   \n",
      "933004984                           NaN                NaN   \n",
      "934182630                           NaN                NaN   \n",
      "935222980                           NaN                NaN   \n",
      "...                                 ...                ...   \n",
      "961819631                   [962473308]        [969421516]   \n",
      "962922731                   [963394081]        [969421516]   \n",
      "963663505                   [964440177]        [969421516]   \n",
      "964871967                   [965228771]        [969421516]   \n",
      "965505185                   [965928394]        [969421516]   \n",
      "\n",
      "                             project_code      date_of_acquisition  \\\n",
      "behavior_session_id                                                  \n",
      "930435266                             NaN  2019-08-23 14:55:24.728   \n",
      "932176731                             NaN  2019-08-26 14:58:18.810   \n",
      "933004984                             NaN  2019-08-27 13:25:33.275   \n",
      "934182630                             NaN  2019-08-28 14:50:57.068   \n",
      "935222980                             NaN  2019-08-29 14:00:00.000   \n",
      "...                                   ...                      ...   \n",
      "961819631            VisualBehaviorTask1B  2019-10-07 08:49:20.602   \n",
      "962922731            VisualBehaviorTask1B  2019-10-08 09:03:22.490   \n",
      "963663505            VisualBehaviorTask1B  2019-10-09 08:57:28.604   \n",
      "964871967            VisualBehaviorTask1B  2019-10-10 09:01:03.214   \n",
      "965505185            VisualBehaviorTask1B  2019-10-11 08:43:32.226   \n",
      "\n",
      "                                              session_type       file_id  \n",
      "behavior_session_id                                                       \n",
      "930435266            TRAINING_0_gratings_autorewards_15min  1.085373e+09  \n",
      "932176731                              TRAINING_1_gratings  1.085373e+09  \n",
      "933004984                              TRAINING_1_gratings  1.085374e+09  \n",
      "934182630                              TRAINING_1_gratings  1.085374e+09  \n",
      "935222980                              TRAINING_1_gratings  1.085374e+09  \n",
      "...                                                    ...           ...  \n",
      "961819631                                 OPHYS_3_images_B           NaN  \n",
      "962922731                         OPHYS_2_images_B_passive           NaN  \n",
      "963663505                                 OPHYS_4_images_A           NaN  \n",
      "964871967                         OPHYS_5_images_A_passive           NaN  \n",
      "965505185                                 OPHYS_6_images_A           NaN  \n",
      "\n",
      "[2936 rows x 20 columns]\n",
      "Total Number of Females is: 1851\n"
     ]
    }
   ],
   "source": [
    "M_behavior_sessions = behavior_sessions[behavior_sessions.sex == 'M']\n",
    "print(\"Total Number of Males is: \" + str(len(M_behavior_sessions)))\n",
    "print(M_behavior_sessions)\n",
    "\n",
    "F_behavior_sessions = behavior_sessions[behavior_sessions.sex == 'F']\n",
    "print(\"Total Number of Females is: \" + str(len(F_behavior_sessions)))"
   ]
  },
  {
   "cell_type": "code",
   "execution_count": 10,
   "metadata": {},
   "outputs": [
    {
     "data": {
      "text/plain": [
       "array(['Sst-IRES-Cre/wt;Ai148(TIT2L-GC6f-ICL-tTA2)/wt',\n",
       "       'Vip-IRES-Cre/wt;Ai148(TIT2L-GC6f-ICL-tTA2)/wt',\n",
       "       'Slc17a7-IRES2-Cre/wt;Camk2a-tTA/wt;Ai94(TITL-GCaMP6s)/wt',\n",
       "       'Slc17a7-IRES2-Cre/wt;Camk2a-tTA/wt;Ai93(TITL-GCaMP6f)/wt'],\n",
       "      dtype=object)"
      ]
     },
     "execution_count": 10,
     "metadata": {},
     "output_type": "execute_result"
    }
   ],
   "source": [
    "M_behavior_sessions.full_genotype.unique()"
   ]
  },
  {
   "cell_type": "code",
   "execution_count": 22,
   "metadata": {},
   "outputs": [],
   "source": [
    "M_Excitatory = M_behavior_sessions[M_behavior_sessions.full_genotype == 'Slc17a7-IRES2-Cre/wt;Camk2a-tTA/wt;Ai94(TITL-GCaMP6s)/wt']+ M_behavior_sessions[M_behavior_sessions.full_genotype == 'Slc17a7-IRES2-Cre/wt;Camk2a-tTA/wt;Ai93(TITL-GCaMP6s)/wt']"
   ]
  },
  {
   "cell_type": "code",
   "execution_count": 24,
   "metadata": {},
   "outputs": [
    {
     "name": "stdout",
     "output_type": "stream",
     "text": [
      "Total Number of Males that are Excitatory is: 230\n"
     ]
    }
   ],
   "source": [
    "print(\"Total Number of Males that are Excitatory is: \" + str(len(M_Excitatory)))"
   ]
  },
  {
   "cell_type": "code",
   "execution_count": 25,
   "metadata": {},
   "outputs": [],
   "source": [
    "M_Inhibitory = M_behavior_sessions[M_behavior_sessions.full_genotype == 'Sst-IRES-Cre/wt;Ai148(TIT2L-GC6f-ICL-tTA2)/wt']+ M_behavior_sessions[M_behavior_sessions.full_genotype == 'Vip-IRES-Cre/wt;Ai148(TIT2L-GC6f-ICL-tTA2)/wt']"
   ]
  },
  {
   "cell_type": "code",
   "execution_count": 26,
   "metadata": {},
   "outputs": [
    {
     "name": "stdout",
     "output_type": "stream",
     "text": [
      "Total Number of Males that are Inhibitory is: 1850\n"
     ]
    }
   ],
   "source": [
    "print(\"Total Number of Males that are Inhibitory is: \" + str(len(M_Inhibitory)))"
   ]
  },
  {
   "cell_type": "code",
   "execution_count": 28,
   "metadata": {},
   "outputs": [],
   "source": [
    "F_Excitatory = F_behavior_sessions[F_behavior_sessions.full_genotype == 'Slc17a7-IRES2-Cre/wt;Camk2a-tTA/wt;Ai94(TITL-GCaMP6s)/wt']+ F_behavior_sessions[F_behavior_sessions.full_genotype == 'Slc17a7-IRES2-Cre/wt;Camk2a-tTA/wt;Ai93(TITL-GCaMP6s)/wt']"
   ]
  },
  {
   "cell_type": "code",
   "execution_count": 29,
   "metadata": {},
   "outputs": [
    {
     "name": "stdout",
     "output_type": "stream",
     "text": [
      "Total Number of Females that are Excitatory is: 101\n"
     ]
    }
   ],
   "source": [
    "print(\"Total Number of Females that are Excitatory is: \" + str(len(F_Excitatory)))"
   ]
  },
  {
   "cell_type": "code",
   "execution_count": 30,
   "metadata": {},
   "outputs": [],
   "source": [
    "F_Inhibitory = F_behavior_sessions[F_behavior_sessions.full_genotype == 'Sst-IRES-Cre/wt;Ai148(TIT2L-GC6f-ICL-tTA2)/wt']+ F_behavior_sessions[F_behavior_sessions.full_genotype == 'Vip-IRES-Cre/wt;Ai148(TIT2L-GC6f-ICL-tTA2)/wt']"
   ]
  },
  {
   "cell_type": "code",
   "execution_count": 31,
   "metadata": {},
   "outputs": [
    {
     "name": "stdout",
     "output_type": "stream",
     "text": [
      "Total Number of Females that are Inhibitory is: 852\n"
     ]
    }
   ],
   "source": [
    "print(\"Total Number of Females that are Inhibitory is: \" + str(len(F_Inhibitory)))"
   ]
  },
  {
   "cell_type": "code",
   "execution_count": null,
   "metadata": {},
   "outputs": [],
   "source": [
    "M_Excitatory = M_behavior_sessions[M_behavior_sessions.full_genotype == 'Slc17a7-IRES2-Cre/wt;Camk2a-tTA/wt;Ai94(TITL-GCaMP6s)/wt']+ M_behavior_sessions[M_behavior_sessions.full_genotype == 'Slc17a7-IRES2-Cre/wt;Camk2a-tTA/wt;Ai93(TITL-GCaMP6s)/wt']"
   ]
  },
  {
   "cell_type": "code",
   "execution_count": null,
   "metadata": {},
   "outputs": [],
   "source": [
    "ophys_sessions = cache.get_ophys_session_table()\n",
    "\n",
    "print(f\"Total number of ophys sessions: {len(ophys_sessions)}\\n\")\n",
    "\n",
    "print(ophys_sessions.columns)\n",
    "\n",
    "ophys_sessions.head(100)"
   ]
  },
  {
   "cell_type": "code",
   "execution_count": 33,
   "metadata": {},
   "outputs": [
    {
     "name": "stdout",
     "output_type": "stream",
     "text": [
      "Total Number of Familiar Passive trials is: 89\n",
      "Total Number of Novel Passive trials is: 88\n"
     ]
    }
   ],
   "source": [
    "Familiar_Passive_ophys_sessions = ophys_sessions[(ophys_sessions.session_type == \"OPHYS_2_images_A_passive\")\n",
    "                                                +(ophys_sessions.session_type == \"OPHYS_2_images_B_passive\")]\n",
    "print(\"Total Number of Familiar Passive trials is: \" + str(len(Familiar_Passive_ophys_sessions)))\n",
    "\n",
    "Novel_Passive_ophys_sessions = ophys_sessions[(ophys_sessions.session_type == \"OPHYS_5_images_A_passive\")\n",
    "                                                +(ophys_sessions.session_type == \"OPHYS_5_images_B_passive\")]\n",
    "print(\"Total Number of Novel Passive trials is: \" + str(len(Novel_Passive_ophys_sessions)))"
   ]
  },
  {
   "cell_type": "markdown",
   "metadata": {},
   "source": [
    "We will examine the different images shown to the mice and the 2-photon calcium imaging that corresponds. "
   ]
  },
  {
   "cell_type": "markdown",
   "metadata": {},
   "source": [
    "## Resources:\n",
    "\n",
    "\n",
    "### Sample Allen Jupyter Notebooks to get started:\n",
    "https://allensdk.readthedocs.io/en/latest/visual_behavior_optical_physiology.html\n",
    "https://allensdk.readthedocs.io/en/latest/visual_coding_neuropixels.html\n",
    "\n",
    "\n",
    "Insert text. "
   ]
  }
 ],
 "metadata": {
  "kernelspec": {
   "display_name": "Python 3",
   "language": "python",
   "name": "python3"
  },
  "language_info": {
   "codemirror_mode": {
    "name": "ipython",
    "version": 3
   },
   "file_extension": ".py",
   "mimetype": "text/x-python",
   "name": "python",
   "nbconvert_exporter": "python",
   "pygments_lexer": "ipython3",
   "version": "3.7.4"
  }
 },
 "nbformat": 4,
 "nbformat_minor": 5
}
